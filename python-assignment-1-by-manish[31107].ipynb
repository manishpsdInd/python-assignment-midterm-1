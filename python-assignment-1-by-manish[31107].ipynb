{
 "cells": [
  {
   "cell_type": "markdown",
   "id": "210e1be7-2f15-45e1-b83f-4776c20e1b7e",
   "metadata": {},
   "source": [
    "<div class=\"alert-success\">\n",
    "    Manish Prasad [M.Tech. Applied AI]\n",
    "</div>\n",
    "<div class=\"alert-success\">\n",
    "    ID No. 31107 \n",
    "</div>\n",
    "<div class=\"alert-success\">\n",
    "    Session. 23-24 / S24\n",
    "</div>\n",
    "<div class=\"alert-success\">\n",
    "    Subject: Programming For Data Science\n",
    "</div>\n",
    "<div class=\"alert-success\">\n",
    "    Subject Teacher: Mr. Ajay Bharaj\n",
    "</div>\n",
    "<div class=\"alert-success\">\n",
    "    College: Visvesvaraya National Institute of Technology, Nagpur\n",
    "</div>"
   ]
  },
  {
   "cell_type": "markdown",
   "id": "f26992b8-64ff-4666-9b2c-9c40bd84d109",
   "metadata": {},
   "source": [
    "<div class=\"alert-info\">\n",
    "1) Write a Python program to find the length of a list.\n",
    "</div>"
   ]
  },
  {
   "cell_type": "markdown",
   "id": "ab64b53b-ed72-4095-995f-a174170f276b",
   "metadata": {},
   "source": [
    "###### 1.a) Write a Python program to find the length of a list."
   ]
  },
  {
   "cell_type": "code",
   "execution_count": 2,
   "id": "32aad40a-3d41-42c9-ae50-4c83d2114fda",
   "metadata": {},
   "outputs": [
    {
     "name": "stdout",
     "output_type": "stream",
     "text": [
      "The length of the list is: 5\n"
     ]
    }
   ],
   "source": [
    "def find_length(lst):\n",
    "    length = len(lst)\n",
    "    return length\n",
    "\n",
    "# Create a list\n",
    "my_list = [1, 2, 3, 4, 5]\n",
    "\n",
    "# Find the length of the list\n",
    "list_length = find_length(my_list)\n",
    "\n",
    "print(\"The length of the list is:\", list_length)\n"
   ]
  },
  {
   "cell_type": "markdown",
   "id": "4d29f8a8-4587-4122-8a96-8b6143805cae",
   "metadata": {},
   "source": [
    "###### 1.b) Write a Python program to find the length of a list given by user"
   ]
  },
  {
   "cell_type": "code",
   "execution_count": 5,
   "id": "49620ed2-39dd-4ba3-8e60-f21a56c20f3c",
   "metadata": {},
   "outputs": [
    {
     "name": "stdin",
     "output_type": "stream",
     "text": [
      " 435,435,4,435,34,, , 5,34,534, , ,,3 ,345, 34,534, ,34, 34,5%$^%$^54 rSF45\n"
     ]
    },
    {
     "name": "stdout",
     "output_type": "stream",
     "text": [
      "The length of the list is: 10\n"
     ]
    }
   ],
   "source": [
    "def find_length(lst):\n",
    "    length = len(lst)\n",
    "    return length\n",
    "\n",
    "# Reading user input data\n",
    "user_data = input()\n",
    "\n",
    "# Create a list\n",
    "user_list = user_data.split()\n",
    "\n",
    "# Find the length of the list\n",
    "list_length = find_length(user_list)\n",
    "\n",
    "print(\"The length of the list is:\", list_length)"
   ]
  },
  {
   "cell_type": "code",
   "execution_count": 7,
   "id": "c88c38dd-47a5-4358-ba73-e5a2afc5bb41",
   "metadata": {},
   "outputs": [
    {
     "data": {
      "text/plain": [
       "['435,435,4,435,34,,',\n",
       " ',',\n",
       " '5,34,534,',\n",
       " ',',\n",
       " ',,3',\n",
       " ',345,',\n",
       " '34,534,',\n",
       " ',34,',\n",
       " '34,5%$^%$^54',\n",
       " 'rSF45']"
      ]
     },
     "execution_count": 7,
     "metadata": {},
     "output_type": "execute_result"
    }
   ],
   "source": [
    "user_list"
   ]
  },
  {
   "cell_type": "markdown",
   "id": "03410766-a7a6-4860-af77-13d0f2e672b2",
   "metadata": {},
   "source": [
    "<div class=\"alert-info\">\n",
    "2) Explain the difference between lists and tuples in Python.\n",
    "</div>"
   ]
  },
  {
   "cell_type": "markdown",
   "id": "5c0b2e6a-afea-4296-ab84-194b73a5afae",
   "metadata": {},
   "source": [
    "###### 2.a) Explain the difference between lists and tuples in Python."
   ]
  },
  {
   "cell_type": "markdown",
   "id": "0b6e5654-47bf-4565-9444-ff81ecef3aed",
   "metadata": {},
   "source": [
    "In Python, \n",
    "By similarity lists and tuples are both data structures that can store multiple elements. \n",
    "and \n",
    "By differences between lists and tuples below are the important points:\n",
    "\n",
    "> Mutability:\n",
    ">+ Lists are mutable, which means we can change, add, or remove elements after creating a list.\n",
    ">+ Tuples are immutable, which means once we create a tuple, we cannot change its elements. \n",
    "  If we need to modify a tuple, we have to create a new tuple.\n",
    "\n",
    ">Syntax:\n",
    ">+ Lists are defined using square brackets [ ], and elements are separated by commas.\n",
    ">+ Tuples are defined using parentheses ( ), and elements are separated by commas.\n",
    "\n",
    ">Performance:\n",
    ">+ Lists are generally slower than tuples because of their mutable nature. Modifying a list requires re-allocating memory and copying elements.\n",
    ">+ Tuples are faster and more memory-efficient than lists because they are immutable and their size is fixed.\n",
    "\n",
    ">Use cases:\n",
    ">+ Lists are commonly used when we need a collection of items that can change dynamically, such as when we are collecting user input or processing data in a loop.\n",
    ">+ Tuples are useful when we want to store a fixed sequence of elements where immutability is desired, such as representing fixed values like coordinates, dates, or configuration settings.\n",
    "\n",
    "In summary, lists are mutable, dynamically-sized collections of elements, while tuples are immutable, fixed-size collections of elements. \n",
    "The choice between using a list or a tuple depends on we specific use case and whether mutability or immutability is more important for we data."
   ]
  },
  {
   "cell_type": "markdown",
   "id": "9c6ed7f1-d8ba-486d-aa6e-34ce4eabcbac",
   "metadata": {},
   "source": [
    "###### 2.b.i) Example List in python"
   ]
  },
  {
   "cell_type": "code",
   "execution_count": 10,
   "id": "bef385af-844a-4012-a2ff-229e9bdbda85",
   "metadata": {},
   "outputs": [],
   "source": [
    "lst = [1, 2, 3, 4, 5, 6, 7, 8, 9, 0]"
   ]
  },
  {
   "cell_type": "code",
   "execution_count": 11,
   "id": "9f6824be-846a-4f8b-a77d-d8b6ba805eb4",
   "metadata": {},
   "outputs": [
    {
     "data": {
      "text/plain": [
       "list"
      ]
     },
     "execution_count": 11,
     "metadata": {},
     "output_type": "execute_result"
    }
   ],
   "source": [
    "type(lst)"
   ]
  },
  {
   "cell_type": "code",
   "execution_count": 12,
   "id": "d568d173-e1b5-4769-846d-285e5ebfd4c2",
   "metadata": {},
   "outputs": [
    {
     "data": {
      "text/plain": [
       "[1, 2, 3, 4, 5, 6, 7, 8, 9, 0]"
      ]
     },
     "execution_count": 12,
     "metadata": {},
     "output_type": "execute_result"
    }
   ],
   "source": [
    "lst"
   ]
  },
  {
   "cell_type": "code",
   "execution_count": 13,
   "id": "f78bf971-ab2e-4aa4-8670-d13eeb0a1cee",
   "metadata": {},
   "outputs": [],
   "source": [
    "lst.remove(2)"
   ]
  },
  {
   "cell_type": "code",
   "execution_count": 14,
   "id": "b820b0bb-8560-4fda-81f0-f853a429de95",
   "metadata": {},
   "outputs": [
    {
     "data": {
      "text/plain": [
       "[1, 3, 4, 5, 6, 7, 8, 9, 0]"
      ]
     },
     "execution_count": 14,
     "metadata": {},
     "output_type": "execute_result"
    }
   ],
   "source": [
    "lst"
   ]
  },
  {
   "cell_type": "markdown",
   "id": "352b9a1a-2fa1-4da2-9a2d-667e20389452",
   "metadata": {},
   "source": [
    "###### 2.b.ii) Example tuples in python"
   ]
  },
  {
   "cell_type": "code",
   "execution_count": 16,
   "id": "f7356cf1-aabf-4c34-8147-4e2f4a33f69c",
   "metadata": {},
   "outputs": [],
   "source": [
    "tpl = (1, 2, 3, 4, 5, 6, 7, 8, 9, 0)"
   ]
  },
  {
   "cell_type": "code",
   "execution_count": 17,
   "id": "00b8e719-8f34-4f0f-ab7e-5d966efb1bc9",
   "metadata": {},
   "outputs": [
    {
     "data": {
      "text/plain": [
       "tuple"
      ]
     },
     "execution_count": 17,
     "metadata": {},
     "output_type": "execute_result"
    }
   ],
   "source": [
    "type(tpl)"
   ]
  },
  {
   "cell_type": "code",
   "execution_count": 18,
   "id": "202ae911-6a7a-4956-86b4-e15b4177e101",
   "metadata": {},
   "outputs": [
    {
     "data": {
      "text/plain": [
       "(1, 2, 3, 4, 5, 6, 7, 8, 9, 0)"
      ]
     },
     "execution_count": 18,
     "metadata": {},
     "output_type": "execute_result"
    }
   ],
   "source": [
    "tpl"
   ]
  },
  {
   "cell_type": "code",
   "execution_count": 25,
   "id": "ff9ef75b-9050-4c4b-a6a3-61af2901524f",
   "metadata": {},
   "outputs": [],
   "source": [
    "# tpl.remove(2) -> Error Message -> AttributeError: 'tuple' object has no attribute 'remove'"
   ]
  },
  {
   "cell_type": "markdown",
   "id": "9ba1fe1f-bb6f-4751-a2cc-4bd538e1790b",
   "metadata": {},
   "source": [
    "<div class=\"alert-info\">\n",
    "3) How do you access and modify elements in a list?\n",
    "</div>"
   ]
  },
  {
   "cell_type": "markdown",
   "id": "f95cc7f7-8462-4446-9f3b-854c1254c597",
   "metadata": {},
   "source": [
    "###### 3.a) How do you access and modify elements in a list?"
   ]
  },
  {
   "cell_type": "markdown",
   "id": "81a9d545-6fee-4149-9fee-f626f15225ee",
   "metadata": {},
   "source": [
    "In Python, we can access and modify elements in a list using indexing and slicing.\n",
    "\n",
    "Accessing elements in a list:\n",
    "+ We can access individual elements in a list by using square brackets [] with the index position of the element.\n",
    "\n",
    "+ Python uses zero-based indexing, which means the first element in the list has an index of 0, the second element has an index of 1, and so on.\n",
    "\n",
    "Modifying elements in a list:\n",
    "+ We can modify elements in a list by assigning a new value to a specific index position.\n",
    "\n",
    "+ This is possible because lists in Python are mutable."
   ]
  },
  {
   "cell_type": "markdown",
   "id": "9f012a03-e2ba-4e08-94a4-8e4a9191a52e",
   "metadata": {},
   "source": [
    "###### 3.b) Example to access and modify list elements"
   ]
  },
  {
   "cell_type": "code",
   "execution_count": 31,
   "id": "95be1cbc-aa8a-4f3e-bbc6-a4a77e5c3c1b",
   "metadata": {},
   "outputs": [
    {
     "name": "stdout",
     "output_type": "stream",
     "text": [
      "1\n",
      "5\n",
      "[1, 2, 10, 4, 5]\n"
     ]
    }
   ],
   "source": [
    "my_list = [1, 2, 3, 4, 5]\n",
    "\n",
    "# Accessing elements\n",
    "first_element = my_list[0]\n",
    "print(first_element)  # Output: 1\n",
    "\n",
    "last_element = my_list[len(my_list)-1]\n",
    "print(last_element)  # Output: 5\n",
    "\n",
    "# Modifying elements\n",
    "my_list[2] = 10\n",
    "print(my_list)  # Output: [1, 2, 10, 4, 5]"
   ]
  },
  {
   "cell_type": "markdown",
   "id": "fc749625-a061-4b04-9902-3f215497218a",
   "metadata": {},
   "source": [
    "<div class=\"alert-info\">\n",
    "4) Write a Python program to remove duplicates from a list.\n",
    "</div>"
   ]
  },
  {
   "cell_type": "markdown",
   "id": "2a1afcd5-fe6f-4db6-b648-0d2db07f304d",
   "metadata": {},
   "source": [
    "###### 4.i) Write a Python program to remove duplicates from a list. - I"
   ]
  },
  {
   "cell_type": "code",
   "execution_count": 34,
   "id": "3debd483-49db-4679-9421-8e6fa8975d9c",
   "metadata": {},
   "outputs": [
    {
     "data": {
      "text/plain": [
       "[1, 2, 3, 4, 5, 0]"
      ]
     },
     "execution_count": 34,
     "metadata": {},
     "output_type": "execute_result"
    }
   ],
   "source": [
    "my_list = [1, 2, 3, 4, 5, 4, 3, 2, 1, 0]\n",
    "unique_list = []\n",
    "for i in my_list:\n",
    "    if i not in unique_list:\n",
    "        unique_list.append(i)\n",
    "unique_list"
   ]
  },
  {
   "cell_type": "markdown",
   "id": "7455e619-d07a-4e3d-b245-98e72958a0d0",
   "metadata": {},
   "source": [
    "###### 4.ii) Write a Python program to remove duplicates from a list. - II"
   ]
  },
  {
   "cell_type": "code",
   "execution_count": 37,
   "id": "a6719212-9439-425a-897c-994e61ce67f8",
   "metadata": {},
   "outputs": [
    {
     "data": {
      "text/plain": [
       "[0, 1, 2, 3, 4, 5]"
      ]
     },
     "execution_count": 37,
     "metadata": {},
     "output_type": "execute_result"
    }
   ],
   "source": [
    "my_list = [1, 2, 3, 4, 5, 4, 3, 2, 1, 0]\n",
    "list(set(my_list))"
   ]
  },
  {
   "cell_type": "markdown",
   "id": "00c37647-b29c-44a2-829b-b36479b0ff9d",
   "metadata": {},
   "source": [
    "<div class=\"alert-info\">\n",
    "5) Explain the concept of a dictionary in Python and how it differs from lists and tuples.\n",
    "</div>"
   ]
  },
  {
   "cell_type": "markdown",
   "id": "675ce1cd-2af9-4157-abae-fb737da1a62b",
   "metadata": {},
   "source": [
    "###### 5.a) Explain the concept of a dictionary in Python and how it differs from lists and tuples."
   ]
  },
  {
   "cell_type": "markdown",
   "id": "a3440c37-41d4-45b7-82f3-123ffcbcc3fe",
   "metadata": {},
   "source": [
    "> A dictionary in Python is a collection of key-value pairs that allows us to store and retrieve data using keys. \n",
    "In a dictionary, each key is unique and is associated with a value. Dictionaries are mutable, meaning that we can add, remove, and modify key-value pairs."
   ]
  },
  {
   "cell_type": "code",
   "execution_count": 11,
   "id": "fa76db75-6e4b-45dd-8f74-8ccc7ca1a9b0",
   "metadata": {},
   "outputs": [
    {
     "data": {
      "text/plain": [
       "dict"
      ]
     },
     "execution_count": 11,
     "metadata": {},
     "output_type": "execute_result"
    }
   ],
   "source": [
    "my_dict = {'name': 'Alice', 'age': 30, 'city': 'New York'}\n",
    "type(my_dict)  # Type is dictonary"
   ]
  },
  {
   "cell_type": "markdown",
   "id": "4484933b-5d01-4566-ab78-f93f49bfc837",
   "metadata": {},
   "source": [
    "###### 5.b) how it differs from lists and tuples."
   ]
  },
  {
   "cell_type": "markdown",
   "id": "254936bd-f169-4b97-9572-fee29ff40279",
   "metadata": {},
   "source": [
    "Dictionaries differ from lists and tuples in the following ways:\n",
    "\n",
    "+ Accessing elements: \n",
    "    In lists and tuples, elements are accessed by their index position, which is an integer. \n",
    "    In dictionaries, elements are accessed by their keys, which can be of any immutable data type.\n",
    "\n",
    "+ Order: \n",
    "    Lists and tuples are ordered collections, meaning that the order of elements in a list or tuple is maintained. \n",
    "    Dictionaries are unordered, meaning that the order of key-value pairs may not be preserved.\n",
    "\n",
    "+ Mutability: \n",
    "    Both lists and dictionaries are mutable, meaning that we can modify their elements. \n",
    "    Tuples, on the other hand, are immutable, meaning that we cannot change the elements once the tuple is created.\n",
    "\n",
    "+ Duplicates: \n",
    "    Lists can contain duplicate elements, while dictionaries cannot have duplicate keys (each key must be unique).\n",
    "\n",
    "Value can be a large data set, which can be fetched by a unique and small key entity from a single dictionary object. We can have nubers of key-values pairs in a single dictionary.\n",
    "\n",
    "Overall, dictionaries are a very flexible and powerful data structure in Python, allowing us to store and retrieve data efficiently using keys. \n",
    "They are particularly useful when we need to store data in a way that allows for quick lookups based on unique identifiers."
   ]
  },
  {
   "cell_type": "markdown",
   "id": "9d716b5f-d120-4bb8-ad24-7f16b4f4757a",
   "metadata": {},
   "source": [
    "<div class=\"alert-info\">\n",
    "6) How do you create and access elements in a dictionary\n",
    "</div>"
   ]
  },
  {
   "cell_type": "markdown",
   "id": "af020ff1-8c51-4714-8e07-0c98a917de62",
   "metadata": {},
   "source": [
    "###### 6.i) How do you create and access elements in a dictionary"
   ]
  },
  {
   "cell_type": "code",
   "execution_count": 84,
   "id": "bd25f01e-5bd6-4c01-8335-993e3a1ceec4",
   "metadata": {},
   "outputs": [],
   "source": [
    "my_dict = {'name': 'Alice', 'age': 30, 'city': 'New York'}"
   ]
  },
  {
   "cell_type": "code",
   "execution_count": 72,
   "id": "558e39bc-edb1-478b-b186-ebfe652a49a0",
   "metadata": {},
   "outputs": [
    {
     "data": {
      "text/plain": [
       "{'name': 'Alice', 'age': 30, 'city': 'New York'}"
      ]
     },
     "execution_count": 72,
     "metadata": {},
     "output_type": "execute_result"
    }
   ],
   "source": [
    "my_dict"
   ]
  },
  {
   "cell_type": "code",
   "execution_count": 60,
   "id": "11e4e055-01df-4511-b657-a78ea38f0ba7",
   "metadata": {},
   "outputs": [
    {
     "data": {
      "text/plain": [
       "dict"
      ]
     },
     "execution_count": 60,
     "metadata": {},
     "output_type": "execute_result"
    }
   ],
   "source": [
    "type(my_dict)"
   ]
  },
  {
   "cell_type": "code",
   "execution_count": 57,
   "id": "15aa15ea-6a73-42ee-b9c1-89372c341233",
   "metadata": {},
   "outputs": [
    {
     "data": {
      "text/plain": [
       "dict_values(['Alice', 30, 'New York'])"
      ]
     },
     "execution_count": 57,
     "metadata": {},
     "output_type": "execute_result"
    }
   ],
   "source": [
    "my_dict.values()"
   ]
  },
  {
   "cell_type": "code",
   "execution_count": 55,
   "id": "3ba2363a-814b-46ff-9ffc-eb2db7be7116",
   "metadata": {},
   "outputs": [
    {
     "data": {
      "text/plain": [
       "dict_keys(['name', 'age', 'city'])"
      ]
     },
     "execution_count": 55,
     "metadata": {},
     "output_type": "execute_result"
    }
   ],
   "source": [
    "my_dict.keys()"
   ]
  },
  {
   "cell_type": "code",
   "execution_count": 56,
   "id": "56832719-5bda-46d8-ba2b-6e718271630c",
   "metadata": {},
   "outputs": [
    {
     "data": {
      "text/plain": [
       "dict_items([('name', 'Alice'), ('age', 30), ('city', 'New York')])"
      ]
     },
     "execution_count": 56,
     "metadata": {},
     "output_type": "execute_result"
    }
   ],
   "source": [
    "my_dict.items()"
   ]
  },
  {
   "cell_type": "code",
   "execution_count": 61,
   "id": "76446858-3b91-4508-bdda-fe7574d2e32f",
   "metadata": {},
   "outputs": [
    {
     "name": "stdout",
     "output_type": "stream",
     "text": [
      "Alice\n",
      "30\n",
      "New York\n"
     ]
    }
   ],
   "source": [
    "print(my_dict['name'])  # Output: Alice\n",
    "print(my_dict['age'])   # Output: 30\n",
    "print(my_dict['city'])  # Output: New York"
   ]
  },
  {
   "cell_type": "code",
   "execution_count": 62,
   "id": "7ad04bb1-f90e-4271-a2f3-f0a4b6464cd5",
   "metadata": {},
   "outputs": [
    {
     "name": "stdout",
     "output_type": "stream",
     "text": [
      "Unknown\n"
     ]
    }
   ],
   "source": [
    "print(my_dict.get('lastname', 'Unknown'))  # Output: Unknown"
   ]
  },
  {
   "cell_type": "code",
   "execution_count": 66,
   "id": "30bd8571-0714-4539-a99f-d3748c97db4f",
   "metadata": {},
   "outputs": [],
   "source": [
    "my_dict['email'] = 'alice@example.com' # Adding a key value pair in a dictionary"
   ]
  },
  {
   "cell_type": "code",
   "execution_count": 65,
   "id": "4246fe94-f71e-4944-897a-357ad21f2236",
   "metadata": {},
   "outputs": [
    {
     "data": {
      "text/plain": [
       "{'name': 'Alice', 'age': 30, 'city': 'New York', 'email': 'alice@example.com'}"
      ]
     },
     "execution_count": 65,
     "metadata": {},
     "output_type": "execute_result"
    }
   ],
   "source": [
    "my_dict"
   ]
  },
  {
   "cell_type": "code",
   "execution_count": 64,
   "id": "e1d7a9e9-c64e-459c-8805-85663d9692f3",
   "metadata": {},
   "outputs": [
    {
     "data": {
      "text/plain": [
       "'alice@example.com'"
      ]
     },
     "execution_count": 64,
     "metadata": {},
     "output_type": "execute_result"
    }
   ],
   "source": [
    "my_dict['email']"
   ]
  },
  {
   "cell_type": "markdown",
   "id": "5247253c-25da-4906-bb37-92eff8279928",
   "metadata": {},
   "source": [
    "###### 6.ii) To Remove the element from a dictionary pop() and popitem() is used"
   ]
  },
  {
   "cell_type": "markdown",
   "id": "b655cc48-c1a4-4b7f-afd6-1b900999ea71",
   "metadata": {},
   "source": [
    "+ pop() - Can throw error if item is not found in the dictionary # KeyError: 'town'\n",
    "+ pop() - Follows FIFO - First in Fist out, it will start poping(removing) up the element which entered first"
   ]
  },
  {
   "cell_type": "code",
   "execution_count": 85,
   "id": "79a87e39-5bc4-4da1-a39b-f3b33c312bba",
   "metadata": {},
   "outputs": [
    {
     "data": {
      "text/plain": [
       "'New York'"
      ]
     },
     "execution_count": 85,
     "metadata": {},
     "output_type": "execute_result"
    }
   ],
   "source": [
    "my_dict.pop('city') # Can throw error if item not found KeyError: 'town'"
   ]
  },
  {
   "cell_type": "code",
   "execution_count": 86,
   "id": "1f9256a1-f157-4017-81b2-cb95f15b92cb",
   "metadata": {},
   "outputs": [
    {
     "data": {
      "text/plain": [
       "{'name': 'Alice', 'age': 30}"
      ]
     },
     "execution_count": 86,
     "metadata": {},
     "output_type": "execute_result"
    }
   ],
   "source": [
    "my_dict"
   ]
  },
  {
   "cell_type": "markdown",
   "id": "c547eb22-90a8-4c22-8630-21cfc0ca934d",
   "metadata": {},
   "source": [
    "+ popitem() - Can throw error if dictonary is empty # KeyError: 'popitem(): dictionary is empty'\n",
    "+ popitem() - Follows FIFO - First in Fist out, it will start poping(removing) up the element which entered first"
   ]
  },
  {
   "cell_type": "code",
   "execution_count": 87,
   "id": "a5f232e1-09ac-4d58-bf0a-9ab8085ffbc9",
   "metadata": {},
   "outputs": [
    {
     "data": {
      "text/plain": [
       "('age', 30)"
      ]
     },
     "execution_count": 87,
     "metadata": {},
     "output_type": "execute_result"
    }
   ],
   "source": [
    "my_dict.popitem()  # Can throw error KeyError: 'popitem(): dictionary is empty'"
   ]
  },
  {
   "cell_type": "code",
   "execution_count": 88,
   "id": "60b8d5aa-3424-4b8d-9e1d-74192ab3a73d",
   "metadata": {},
   "outputs": [
    {
     "data": {
      "text/plain": [
       "{'name': 'Alice'}"
      ]
     },
     "execution_count": 88,
     "metadata": {},
     "output_type": "execute_result"
    }
   ],
   "source": [
    "my_dict"
   ]
  },
  {
   "cell_type": "markdown",
   "id": "489f1d3e-c665-4127-be29-c66ff2e964c8",
   "metadata": {},
   "source": [
    "<div class=\"alert-info\">\n",
    "7) Write a Python program to merge two dictionaries.\n",
    "</div>"
   ]
  },
  {
   "cell_type": "code",
   "execution_count": 334,
   "id": "37f16d74-b8c4-41ea-9c9f-3edf324f58ff",
   "metadata": {},
   "outputs": [],
   "source": [
    "my_dict = {'name': 'Alice', 'age': 16, 'city': 'Wonderland', 'index': 1}\n",
    "your_dict = {'gender': 'Female', 'hobby': 'Reading Books', 'friend': 'Rabbit', 'index': 1}"
   ]
  },
  {
   "cell_type": "code",
   "execution_count": 410,
   "id": "550b103d-04b7-41a2-9842-dd8cf9a5a743",
   "metadata": {},
   "outputs": [
    {
     "data": {
      "text/plain": [
       "{'name': 'Alice',\n",
       " 'age': 30,\n",
       " 'city': 'New York',\n",
       " 'gender': 'Female',\n",
       " 'hobby': 'Reading Books',\n",
       " 'friend': 'Rabbit',\n",
       " 'index': 1}"
      ]
     },
     "execution_count": 410,
     "metadata": {},
     "output_type": "execute_result"
    }
   ],
   "source": [
    "merge_dict = my_dict.copy()\n",
    "merge_dict.update(your_dict)\n",
    "merge_dict"
   ]
  },
  {
   "cell_type": "markdown",
   "id": "b83cb105-c80a-416e-ac7b-15ad977a4fe3",
   "metadata": {},
   "source": [
    "<div class=\"alert-info\">\n",
    "8) What are the different string methods available in Python? Give examples.\n",
    "</div>"
   ]
  },
  {
   "cell_type": "markdown",
   "id": "869f6284-1bb2-4e34-b328-c1f8ff92e94d",
   "metadata": {},
   "source": [
    "##### Some commonly used string methods along with examples:"
   ]
  },
  {
   "cell_type": "code",
   "execution_count": 115,
   "id": "bed04801-c4b5-47bc-8c51-e57361b22797",
   "metadata": {},
   "outputs": [],
   "source": [
    "series = \" alICe in boRDerLanD   \"\n",
    "season = ' SeAsOn 1   '"
   ]
  },
  {
   "cell_type": "markdown",
   "id": "e3939973-ebf0-48bd-920f-de9cf3e6c467",
   "metadata": {},
   "source": [
    "> 8.i upper(): Converts all characters in a string to uppercase."
   ]
  },
  {
   "cell_type": "code",
   "execution_count": 120,
   "id": "0f0dbc6d-55e6-43fe-bb0a-1527c017b55a",
   "metadata": {},
   "outputs": [
    {
     "name": "stdout",
     "output_type": "stream",
     "text": [
      " ALICE IN BORDERLAND   \n"
     ]
    }
   ],
   "source": [
    "result = series.upper()\n",
    "print(result)"
   ]
  },
  {
   "cell_type": "code",
   "execution_count": 121,
   "id": "1f6eb1f2-dc78-4738-a6ab-99e2891dfc97",
   "metadata": {},
   "outputs": [
    {
     "data": {
      "text/plain": [
       "' ALICE IN BORDERLAND   '"
      ]
     },
     "execution_count": 121,
     "metadata": {},
     "output_type": "execute_result"
    }
   ],
   "source": [
    "series.upper()"
   ]
  },
  {
   "cell_type": "markdown",
   "id": "4eb8f7e7-50ad-45c6-9c1f-5f3f8a0dead3",
   "metadata": {},
   "source": [
    ">  8.ii title(): Only first character of each word in upper case and all other characters in lower case"
   ]
  },
  {
   "cell_type": "code",
   "execution_count": 118,
   "id": "0647e0e4-8d24-4457-860a-e9a893a13bde",
   "metadata": {},
   "outputs": [
    {
     "data": {
      "text/plain": [
       "' Alice In Borderland   '"
      ]
     },
     "execution_count": 118,
     "metadata": {},
     "output_type": "execute_result"
    }
   ],
   "source": [
    "series.title()"
   ]
  },
  {
   "cell_type": "markdown",
   "id": "f500b2d7-8b28-40d3-95ce-2f9c560aa731",
   "metadata": {},
   "source": [
    "> 8.iii  lower(): Converts all characters in a string to lowercase."
   ]
  },
  {
   "cell_type": "code",
   "execution_count": 119,
   "id": "a714a4ec-e31e-4fbd-8684-82f815e84beb",
   "metadata": {},
   "outputs": [
    {
     "data": {
      "text/plain": [
       "' alice in borderland   '"
      ]
     },
     "execution_count": 119,
     "metadata": {},
     "output_type": "execute_result"
    }
   ],
   "source": [
    "series.lower()"
   ]
  },
  {
   "cell_type": "code",
   "execution_count": 122,
   "id": "20148889-64a9-4232-8cef-a2ab13edc833",
   "metadata": {},
   "outputs": [
    {
     "data": {
      "text/plain": [
       "'123432445'"
      ]
     },
     "execution_count": 122,
     "metadata": {},
     "output_type": "execute_result"
    }
   ],
   "source": [
    "'123432445'.upper()   # No use of title / lower / upper in integer type values"
   ]
  },
  {
   "cell_type": "code",
   "execution_count": 123,
   "id": "4d4f13ae-7d3f-45e7-9e78-5ab08451124b",
   "metadata": {},
   "outputs": [
    {
     "data": {
      "text/plain": [
       "' alICe in boRDerLanD   '"
      ]
     },
     "execution_count": 123,
     "metadata": {},
     "output_type": "execute_result"
    }
   ],
   "source": [
    "series # Actual series string is still in his base form"
   ]
  },
  {
   "cell_type": "markdown",
   "id": "06ba466c-707f-439b-aea5-ba6fe5dc08ac",
   "metadata": {},
   "source": [
    "> 8.iv strip(): Removes leading and trailing whitespace characters from a string."
   ]
  },
  {
   "cell_type": "code",
   "execution_count": 124,
   "id": "04df8e56-45c5-47ab-88cf-2f927ae7cebf",
   "metadata": {},
   "outputs": [
    {
     "data": {
      "text/plain": [
       "'alICe in boRDerLanD'"
      ]
     },
     "execution_count": 124,
     "metadata": {},
     "output_type": "execute_result"
    }
   ],
   "source": [
    "series.strip()"
   ]
  },
  {
   "cell_type": "code",
   "execution_count": 130,
   "id": "59945142-175c-40a1-87bb-5cae991193ca",
   "metadata": {},
   "outputs": [
    {
     "data": {
      "text/plain": [
       "23"
      ]
     },
     "execution_count": 130,
     "metadata": {},
     "output_type": "execute_result"
    }
   ],
   "source": [
    "len(series)"
   ]
  },
  {
   "cell_type": "code",
   "execution_count": 131,
   "id": "74874ef9-9b7f-4426-98c4-be626be5fe64",
   "metadata": {},
   "outputs": [
    {
     "data": {
      "text/plain": [
       "19"
      ]
     },
     "execution_count": 131,
     "metadata": {},
     "output_type": "execute_result"
    }
   ],
   "source": [
    "len(series.strip())"
   ]
  },
  {
   "cell_type": "markdown",
   "id": "c691078a-c79d-403d-b4f8-cf380adf386c",
   "metadata": {},
   "source": [
    "> 8.v  replace(): Replaces a particular character from a string with a given character"
   ]
  },
  {
   "cell_type": "code",
   "execution_count": 132,
   "id": "631127cf-166b-4ff5-9636-57d8bee0228a",
   "metadata": {},
   "outputs": [
    {
     "data": {
      "text/plain": [
       "'#alICe#in#boRDerLanD###'"
      ]
     },
     "execution_count": 132,
     "metadata": {},
     "output_type": "execute_result"
    }
   ],
   "source": [
    "series.replace(' ', '#')"
   ]
  },
  {
   "cell_type": "code",
   "execution_count": 133,
   "id": "5e466a3e-8a80-4c06-b504-c8cdd2b33d71",
   "metadata": {},
   "outputs": [
    {
     "data": {
      "text/plain": [
       "'_Alice_In_Borderland___'"
      ]
     },
     "execution_count": 133,
     "metadata": {},
     "output_type": "execute_result"
    }
   ],
   "source": [
    "series.title().replace(' ', '_')"
   ]
  },
  {
   "cell_type": "markdown",
   "id": "0eeefb62-19e7-4bf7-837c-8fa24cbddd00",
   "metadata": {},
   "source": [
    "> 8.vi  split(): Splits a string into a list of substrings based on a delimiter."
   ]
  },
  {
   "cell_type": "code",
   "execution_count": 134,
   "id": "b9924886-ab8b-4014-8864-91fe93ebb8ee",
   "metadata": {},
   "outputs": [
    {
     "data": {
      "text/plain": [
       "['', 'alICe', 'in', 'boRDerLanD', '', '', '']"
      ]
     },
     "execution_count": 134,
     "metadata": {},
     "output_type": "execute_result"
    }
   ],
   "source": [
    "series.split(' ')"
   ]
  },
  {
   "cell_type": "code",
   "execution_count": 135,
   "id": "401a9aa5-37d5-4abd-9734-e813a1b6020a",
   "metadata": {},
   "outputs": [
    {
     "data": {
      "text/plain": [
       "list"
      ]
     },
     "execution_count": 135,
     "metadata": {},
     "output_type": "execute_result"
    }
   ],
   "source": [
    "type(series.split(' '))"
   ]
  },
  {
   "cell_type": "code",
   "execution_count": 136,
   "id": "d865d33b-36ed-4163-9cee-ddc08bcbf730",
   "metadata": {},
   "outputs": [
    {
     "data": {
      "text/plain": [
       "7"
      ]
     },
     "execution_count": 136,
     "metadata": {},
     "output_type": "execute_result"
    }
   ],
   "source": [
    "len(series.split(' '))"
   ]
  },
  {
   "cell_type": "code",
   "execution_count": 137,
   "id": "83c3585c-9833-4306-8fe9-feaa0b7041a0",
   "metadata": {},
   "outputs": [
    {
     "data": {
      "text/plain": [
       "[' ', 'lICe in boRDerL', 'nD   ']"
      ]
     },
     "execution_count": 137,
     "metadata": {},
     "output_type": "execute_result"
    }
   ],
   "source": [
    "series.split('a')"
   ]
  },
  {
   "cell_type": "markdown",
   "id": "f5ac022f-3ced-42fa-b307-3f6a64b7e850",
   "metadata": {},
   "source": [
    "###### Number of occurence of a character in a string using split() method"
   ]
  },
  {
   "cell_type": "code",
   "execution_count": 144,
   "id": "254515c6-dfc5-40a4-8d8a-38d2df759363",
   "metadata": {},
   "outputs": [
    {
     "name": "stdout",
     "output_type": "stream",
     "text": [
      "Number of occurence of 'a' in string '  alICe in boRDerLanD    ' is  2\n"
     ]
    }
   ],
   "source": [
    "print(\"Number of occurence of 'a' in string '\", series, \"' is \", len(series.split('a'))-1)"
   ]
  },
  {
   "cell_type": "markdown",
   "id": "93a6c369-0a02-4c56-93b8-802e3853218f",
   "metadata": {},
   "source": [
    "> 8.vii  count(): Returns number of counts of a given character or another string(substring) from a given string"
   ]
  },
  {
   "cell_type": "code",
   "execution_count": 156,
   "id": "cfb675e2-3f43-4902-8b99-a7815be04702",
   "metadata": {},
   "outputs": [
    {
     "data": {
      "text/plain": [
       "2"
      ]
     },
     "execution_count": 156,
     "metadata": {},
     "output_type": "execute_result"
    }
   ],
   "source": [
    "series.count('a') # a count "
   ]
  },
  {
   "cell_type": "code",
   "execution_count": 157,
   "id": "e47df5e4-1031-47a7-a597-716b42b43c6c",
   "metadata": {},
   "outputs": [
    {
     "data": {
      "text/plain": [
       "6"
      ]
     },
     "execution_count": 157,
     "metadata": {},
     "output_type": "execute_result"
    }
   ],
   "source": [
    "series.count(' ')  # Blank space count "
   ]
  },
  {
   "cell_type": "code",
   "execution_count": 158,
   "id": "a996402d-8200-4fb7-83cf-b1fd18c81dac",
   "metadata": {},
   "outputs": [
    {
     "data": {
      "text/plain": [
       "0"
      ]
     },
     "execution_count": 158,
     "metadata": {},
     "output_type": "execute_result"
    }
   ],
   "source": [
    "series.count('ace')"
   ]
  },
  {
   "cell_type": "markdown",
   "id": "fcd92286-3871-459a-a08a-d3e8f7cf738c",
   "metadata": {},
   "source": [
    "> 8.viii join(): Joins elements of a list into a single string using a specified separator."
   ]
  },
  {
   "cell_type": "code",
   "execution_count": 164,
   "id": "36d517e9-b058-44e6-91d4-5b35d8ce3dc9",
   "metadata": {},
   "outputs": [
    {
     "data": {
      "text/plain": [
       "' _a_l_I_C_e_ _i_n_ _b_o_R_D_e_r_L_a_n_D_ _ _ '"
      ]
     },
     "execution_count": 164,
     "metadata": {},
     "output_type": "execute_result"
    }
   ],
   "source": [
    "'_'.join(series)"
   ]
  },
  {
   "cell_type": "code",
   "execution_count": 160,
   "id": "c4161a6c-e396-4bec-a5c6-403498ed48a2",
   "metadata": {},
   "outputs": [
    {
     "data": {
      "text/plain": [
       "'  SeAsOn 1   a SeAsOn 1   l SeAsOn 1   I SeAsOn 1   C SeAsOn 1   e SeAsOn 1     SeAsOn 1   i SeAsOn 1   n SeAsOn 1     SeAsOn 1   b SeAsOn 1   o SeAsOn 1   R SeAsOn 1   D SeAsOn 1   e SeAsOn 1   r SeAsOn 1   L SeAsOn 1   a SeAsOn 1   n SeAsOn 1   D SeAsOn 1     SeAsOn 1     SeAsOn 1    '"
      ]
     },
     "execution_count": 160,
     "metadata": {},
     "output_type": "execute_result"
    }
   ],
   "source": [
    "season.join(series)"
   ]
  },
  {
   "cell_type": "code",
   "execution_count": 165,
   "id": "e514487b-dc22-4285-a645-edd202a28327",
   "metadata": {},
   "outputs": [
    {
     "data": {
      "text/plain": [
       "' alICe in boRDerLanD   '"
      ]
     },
     "execution_count": 165,
     "metadata": {},
     "output_type": "execute_result"
    }
   ],
   "source": [
    "''.join(series)"
   ]
  },
  {
   "cell_type": "code",
   "execution_count": 166,
   "id": "8cfe86e1-2792-4a58-96ea-7d7fe91721e4",
   "metadata": {},
   "outputs": [
    {
     "data": {
      "text/plain": [
       "'  a l I C e   i n   b o R D e r L a n D      '"
      ]
     },
     "execution_count": 166,
     "metadata": {},
     "output_type": "execute_result"
    }
   ],
   "source": [
    "' '.join(series)"
   ]
  },
  {
   "cell_type": "markdown",
   "id": "8914ad26-ec1e-44b0-90a9-ca1a83d580c9",
   "metadata": {},
   "source": [
    "> 8.ix. '+' : Concatination of two strings "
   ]
  },
  {
   "cell_type": "code",
   "execution_count": 167,
   "id": "4ebee00a-151d-41ed-9bcc-48f57e924940",
   "metadata": {},
   "outputs": [
    {
     "data": {
      "text/plain": [
       "' alICe in boRDerLanD    SeAsOn 1   '"
      ]
     },
     "execution_count": 167,
     "metadata": {},
     "output_type": "execute_result"
    }
   ],
   "source": [
    "series + season"
   ]
  },
  {
   "cell_type": "code",
   "execution_count": 172,
   "id": "b3226203-9855-4534-9f43-a6817f8bdb8e",
   "metadata": {},
   "outputs": [
    {
     "data": {
      "text/plain": [
       "'Alice In Borderland - Season 1'"
      ]
     },
     "execution_count": 172,
     "metadata": {},
     "output_type": "execute_result"
    }
   ],
   "source": [
    "series.strip().title() + ' - ' + season.strip().title()"
   ]
  },
  {
   "cell_type": "markdown",
   "id": "25769470-5005-4568-8d69-79736bdf83e7",
   "metadata": {},
   "source": [
    "> 8.x startswith(): Checks if a string starts with a specified prefix."
   ]
  },
  {
   "cell_type": "code",
   "execution_count": 184,
   "id": "49e5ef5c-9a27-461c-9891-b15888409a92",
   "metadata": {},
   "outputs": [
    {
     "data": {
      "text/plain": [
       "False"
      ]
     },
     "execution_count": 184,
     "metadata": {},
     "output_type": "execute_result"
    }
   ],
   "source": [
    "series.startswith('alIce') # startswith can't remove leading spaces"
   ]
  },
  {
   "cell_type": "code",
   "execution_count": 185,
   "id": "c5b6c758-dd0b-497e-aa2b-25f28831fdf9",
   "metadata": {},
   "outputs": [
    {
     "data": {
      "text/plain": [
       "False"
      ]
     },
     "execution_count": 185,
     "metadata": {},
     "output_type": "execute_result"
    }
   ],
   "source": [
    "series.strip().startswith('alIce')  # startswith is case sensitive"
   ]
  },
  {
   "cell_type": "code",
   "execution_count": 199,
   "id": "82787c5d-e648-40aa-af89-b94b4420d9e2",
   "metadata": {},
   "outputs": [
    {
     "data": {
      "text/plain": [
       "False"
      ]
     },
     "execution_count": 199,
     "metadata": {},
     "output_type": "execute_result"
    }
   ],
   "source": [
    "series.strip().lower().startswith('alIce')  # Try better luck or apply logic"
   ]
  },
  {
   "cell_type": "code",
   "execution_count": 188,
   "id": "f8a16586-ae01-4de7-b656-11cae81b4138",
   "metadata": {},
   "outputs": [
    {
     "data": {
      "text/plain": [
       "True"
      ]
     },
     "execution_count": 188,
     "metadata": {},
     "output_type": "execute_result"
    }
   ],
   "source": [
    "series.strip().lower().startswith('alIce'.lower())  # 👍"
   ]
  },
  {
   "cell_type": "markdown",
   "id": "87b474b3-e8d9-4df9-bfd9-0047abd13829",
   "metadata": {},
   "source": [
    "> 8.xi  isdigit(): Checks if all characters in a string are digits.\n"
   ]
  },
  {
   "cell_type": "code",
   "execution_count": 189,
   "id": "ca5e39b5-f733-4e27-84af-81902e440ceb",
   "metadata": {},
   "outputs": [
    {
     "data": {
      "text/plain": [
       "False"
      ]
     },
     "execution_count": 189,
     "metadata": {},
     "output_type": "execute_result"
    }
   ],
   "source": [
    "series.isdigit()"
   ]
  },
  {
   "cell_type": "code",
   "execution_count": 195,
   "id": "c4429df7-130f-4c2c-a12b-539fcb0385bc",
   "metadata": {},
   "outputs": [
    {
     "data": {
      "text/plain": [
       "False"
      ]
     },
     "execution_count": 195,
     "metadata": {},
     "output_type": "execute_result"
    }
   ],
   "source": [
    "'12312423.4534534'.isdigit()"
   ]
  },
  {
   "cell_type": "code",
   "execution_count": 196,
   "id": "23d0fb12-775d-4bef-ac80-7cb3e528916c",
   "metadata": {},
   "outputs": [
    {
     "data": {
      "text/plain": [
       "True"
      ]
     },
     "execution_count": 196,
     "metadata": {},
     "output_type": "execute_result"
    }
   ],
   "source": [
    "'123124234534534'.isdigit()"
   ]
  },
  {
   "cell_type": "markdown",
   "id": "49e11ff2-29a0-4dfc-9576-b160b0691059",
   "metadata": {},
   "source": [
    "> 8.xii isdecimal(): Checks if all characters in a string are digits."
   ]
  },
  {
   "cell_type": "code",
   "execution_count": 192,
   "id": "0e992540-b66f-4aa0-9f70-fadd2acd336a",
   "metadata": {},
   "outputs": [
    {
     "data": {
      "text/plain": [
       "False"
      ]
     },
     "execution_count": 192,
     "metadata": {},
     "output_type": "execute_result"
    }
   ],
   "source": [
    "'123.124234.5345.34'.isdecimal()"
   ]
  },
  {
   "cell_type": "code",
   "execution_count": 197,
   "id": "ff067612-c9f9-49c8-85c6-1b3acdfb8d2f",
   "metadata": {},
   "outputs": [
    {
     "data": {
      "text/plain": [
       "True"
      ]
     },
     "execution_count": 197,
     "metadata": {},
     "output_type": "execute_result"
    }
   ],
   "source": [
    "'123124234534534'.isdecimal()"
   ]
  },
  {
   "cell_type": "markdown",
   "id": "eb0a5cb8-0585-4e6f-ae5a-9aaee687453c",
   "metadata": {},
   "source": [
    "> 8.xiii  center() ljust() rjust() - String indentation LEFT, RIGHT, CENTER"
   ]
  },
  {
   "cell_type": "code",
   "execution_count": 433,
   "id": "1c6a3f6b-ee08-4d15-a159-e4b741129a85",
   "metadata": {},
   "outputs": [
    {
     "name": "stdout",
     "output_type": "stream",
     "text": [
      "*************** Printing in center ***************\n"
     ]
    }
   ],
   "source": [
    "print(\" Printing in center \".center(50, '*'))"
   ]
  },
  {
   "cell_type": "code",
   "execution_count": 435,
   "id": "ce43b370-4ef5-46d4-ab54-9b1f3dfe8fb8",
   "metadata": {},
   "outputs": [
    {
     "name": "stdout",
     "output_type": "stream",
     "text": [
      "******************************* Printing to right \n"
     ]
    }
   ],
   "source": [
    "print(\" Printing to right \".rjust(50, '*'))"
   ]
  },
  {
   "cell_type": "code",
   "execution_count": 437,
   "id": "96ded718-034e-486e-afae-c1e2a7d956e5",
   "metadata": {},
   "outputs": [
    {
     "name": "stdout",
     "output_type": "stream",
     "text": [
      " Printing from left ******************************\n"
     ]
    }
   ],
   "source": [
    "print(\" Printing from left \".ljust(50, '*'))"
   ]
  },
  {
   "cell_type": "markdown",
   "id": "f30781c3-2052-46f5-bf98-2dc796e11f01",
   "metadata": {},
   "source": [
    "<div class=\"alert-info\">\n",
    "9) How do you perform string slicing in Python?\n",
    "</div>"
   ]
  },
  {
   "cell_type": "markdown",
   "id": "16c2e746-cfe5-402d-b004-9ac768084767",
   "metadata": {},
   "source": [
    "###### 9.a) How do you perform string slicing in Python?"
   ]
  },
  {
   "cell_type": "markdown",
   "id": "8d2a402d-f509-4fbc-8368-20bc070c83b3",
   "metadata": {},
   "source": [
    "+ In Python String slicing is a technique that extract a subset of characters (substring) from a string.\n",
    "+ It allows us to create a new string from a part of the original string by specifying the start and end index positions. \n",
    "+ The syntax for string slicing with one colon is string[start:end]. Here start and end represents the position of character in the complete length of string\n",
    "  > string[start:end]\n",
    "+ Slicing with two colons string[start:stop:step]. Here step represents how many characters to move forward (or backward if negative) after each character\n",
    "  > string[start:stop:step]"
   ]
  },
  {
   "cell_type": "markdown",
   "id": "16726028-102e-4144-b96b-c1f4ae921b40",
   "metadata": {},
   "source": [
    "###### 9.b.i) Example of string [ start : end ] (non-negative)"
   ]
  },
  {
   "cell_type": "code",
   "execution_count": 279,
   "id": "172b5177-0630-4093-9e5c-e22ba05858f9",
   "metadata": {},
   "outputs": [
    {
     "name": "stdout",
     "output_type": "stream",
     "text": [
      "in boRDer\n"
     ]
    }
   ],
   "source": [
    "# Original string\n",
    "series = \" alICe in boRDerLanD   \"\n",
    "\n",
    "# Perform string slicing, here substring is a sliced from original string\n",
    "substring = series[7:16]\n",
    "\n",
    "# Output the sliced substring\n",
    "print(substring)  # Output: World"
   ]
  },
  {
   "cell_type": "code",
   "execution_count": 216,
   "id": "ad52bb19-aa54-4c48-87ea-a80471be1394",
   "metadata": {},
   "outputs": [
    {
     "data": {
      "text/plain": [
       "'in boRDer'"
      ]
     },
     "execution_count": 216,
     "metadata": {},
     "output_type": "execute_result"
    }
   ],
   "source": [
    "series[7:16]  # Slice with start and end position"
   ]
  },
  {
   "cell_type": "code",
   "execution_count": 217,
   "id": "8d16fefb-8652-4ba2-ad4d-487a53d5058c",
   "metadata": {},
   "outputs": [
    {
     "data": {
      "text/plain": [
       "'LanD   '"
      ]
     },
     "execution_count": 217,
     "metadata": {},
     "output_type": "execute_result"
    }
   ],
   "source": [
    "series[16:]   # slice with no end position"
   ]
  },
  {
   "cell_type": "code",
   "execution_count": 219,
   "id": "2e2bea79-96a4-46f4-9445-b267b6535d3e",
   "metadata": {},
   "outputs": [
    {
     "data": {
      "text/plain": [
       "' alICe in boRDer'"
      ]
     },
     "execution_count": 219,
     "metadata": {},
     "output_type": "execute_result"
    }
   ],
   "source": [
    "series[:16]   # slice with no start position"
   ]
  },
  {
   "cell_type": "code",
   "execution_count": 220,
   "id": "7896163d-481a-45ae-b12b-eaeb0e4bc336",
   "metadata": {},
   "outputs": [
    {
     "data": {
      "text/plain": [
       "'Alice In Border'"
      ]
     },
     "execution_count": 220,
     "metadata": {},
     "output_type": "execute_result"
    }
   ],
   "source": [
    "series[:16].title().strip()   # Just another day"
   ]
  },
  {
   "cell_type": "code",
   "execution_count": 222,
   "id": "14dc1317-43cb-4664-84c6-96c09d9d9c2c",
   "metadata": {},
   "outputs": [
    {
     "data": {
      "text/plain": [
       "' alICe in boRDerLanD   '"
      ]
     },
     "execution_count": 222,
     "metadata": {},
     "output_type": "execute_result"
    }
   ],
   "source": [
    "series[:]  # slice with no start and end position"
   ]
  },
  {
   "cell_type": "code",
   "execution_count": 236,
   "id": "f3efda17-c6ca-4a58-b8f1-82c7fc7f00dc",
   "metadata": {},
   "outputs": [
    {
     "name": "stdout",
     "output_type": "stream",
     "text": [
      "Character -> Index Position\n",
      "          -> 0\n",
      "        a -> 1\n",
      "        l -> 2\n",
      "        I -> 3\n",
      "        C -> 4\n",
      "        e -> 5\n",
      "          -> 6\n",
      "        i -> 7\n",
      "        n -> 8\n",
      "          -> 9\n",
      "        b -> 10\n",
      "        o -> 11\n",
      "        R -> 12\n",
      "        D -> 13\n",
      "        e -> 14\n",
      "        r -> 15\n",
      "        L -> 16\n",
      "        a -> 17\n",
      "        n -> 18\n",
      "        D -> 19\n",
      "          -> 20\n",
      "          -> 21\n",
      "          -> 22\n"
     ]
    }
   ],
   "source": [
    "# Positive index/position of characters in string\n",
    "print('Character -> Index Position')\n",
    "for index, character in enumerate(series):\n",
    "    print(f\"        {character} -> {index}\")"
   ]
  },
  {
   "cell_type": "markdown",
   "id": "08758870-9f1d-4a90-8bac-d2bb5a80cbb7",
   "metadata": {},
   "source": [
    "###### 9.b.ii) Example of string [ start : end ] (negative)"
   ]
  },
  {
   "cell_type": "code",
   "execution_count": 238,
   "id": "c6ecf80b-85f4-48be-b734-682de5441569",
   "metadata": {},
   "outputs": [
    {
     "name": "stdout",
     "output_type": "stream",
     "text": [
      "Character -> Index Position\n",
      "          -> -23\n",
      "        a -> -22\n",
      "        l -> -21\n",
      "        I -> -20\n",
      "        C -> -19\n",
      "        e -> -18\n",
      "          -> -17\n",
      "        i -> -16\n",
      "        n -> -15\n",
      "          -> -14\n",
      "        b -> -13\n",
      "        o -> -12\n",
      "        R -> -11\n",
      "        D -> -10\n",
      "        e -> -9\n",
      "        r -> -8\n",
      "        L -> -7\n",
      "        a -> -6\n",
      "        n -> -5\n",
      "        D -> -4\n",
      "          -> -3\n",
      "          -> -2\n",
      "          -> -1\n"
     ]
    }
   ],
   "source": [
    "# Negative index/position of characters in string\n",
    "print('Character -> Index Position')\n",
    "for index, character in enumerate(series):\n",
    "    negative_index = index - len(series)\n",
    "    print(f\"        {character} -> {negative_index}\")"
   ]
  },
  {
   "cell_type": "code",
   "execution_count": 245,
   "id": "439e0013-af74-4072-a479-e57d9ad08fef",
   "metadata": {},
   "outputs": [
    {
     "data": {
      "text/plain": [
       "'alICe in boR'"
      ]
     },
     "execution_count": 245,
     "metadata": {},
     "output_type": "execute_result"
    }
   ],
   "source": [
    "series[1:-10]"
   ]
  },
  {
   "cell_type": "code",
   "execution_count": 247,
   "id": "9ed290ce-4327-4d32-9b74-96bfcb2311fc",
   "metadata": {},
   "outputs": [
    {
     "data": {
      "text/plain": [
       "''"
      ]
     },
     "execution_count": 247,
     "metadata": {},
     "output_type": "execute_result"
    }
   ],
   "source": [
    "series[-3:-7]  # Slicing always checks right side from the start position"
   ]
  },
  {
   "cell_type": "code",
   "execution_count": 249,
   "id": "420ddb3d-2977-4947-961a-2b3379a6a99b",
   "metadata": {},
   "outputs": [
    {
     "data": {
      "text/plain": [
       "'bo'"
      ]
     },
     "execution_count": 249,
     "metadata": {},
     "output_type": "execute_result"
    }
   ],
   "source": [
    "series[-13:-11]  # Slice with negative start and end position"
   ]
  },
  {
   "cell_type": "code",
   "execution_count": 246,
   "id": "c1c71886-562e-4006-9714-0b59ef80b80f",
   "metadata": {},
   "outputs": [
    {
     "data": {
      "text/plain": [
       "''"
      ]
     },
     "execution_count": 246,
     "metadata": {},
     "output_type": "execute_result"
    }
   ],
   "source": [
    "series[-1:10]  # If we have given -1 as a start position then we can't get any substring, whatever the end position will give"
   ]
  },
  {
   "cell_type": "markdown",
   "id": "b8ec487d-8c68-4384-af05-ca411e179f8f",
   "metadata": {},
   "source": [
    "###### 9.b.iii) Example of string [ start : end : step ] (non-negative)"
   ]
  },
  {
   "cell_type": "code",
   "execution_count": 283,
   "id": "5f314f61-c8b0-4ec8-a459-e8b4799e0501",
   "metadata": {},
   "outputs": [
    {
     "data": {
      "text/plain": [
       "'alICe in boRDe'"
      ]
     },
     "execution_count": 283,
     "metadata": {},
     "output_type": "execute_result"
    }
   ],
   "source": [
    "series[1:15:1]"
   ]
  },
  {
   "cell_type": "code",
   "execution_count": 284,
   "id": "6fdc3b9b-972f-4e81-a844-adde73302373",
   "metadata": {},
   "outputs": [
    {
     "data": {
      "text/plain": [
       "'aIei oD'"
      ]
     },
     "execution_count": 284,
     "metadata": {},
     "output_type": "execute_result"
    }
   ],
   "source": [
    "series[1:15:2]  # It is steping 2 - 2 steps forward"
   ]
  },
  {
   "cell_type": "code",
   "execution_count": 285,
   "id": "50e1d882-799c-4379-9fcd-e26ed9ccd041",
   "metadata": {},
   "outputs": [
    {
     "data": {
      "text/plain": [
       "'aCibD'"
      ]
     },
     "execution_count": 285,
     "metadata": {},
     "output_type": "execute_result"
    }
   ],
   "source": [
    "series[1:15:3]  # It is steping 2 - 2 steps forward"
   ]
  },
  {
   "cell_type": "code",
   "execution_count": 302,
   "id": "ce13cca5-0fa4-4f39-bddb-9e2a594aade7",
   "metadata": {},
   "outputs": [
    {
     "data": {
      "text/plain": [
       "'alICe in boRDerLan'"
      ]
     },
     "execution_count": 302,
     "metadata": {},
     "output_type": "execute_result"
    }
   ],
   "source": [
    "series[1:-4:1]  # This will return every character from the string starting from the beginning to the end."
   ]
  },
  {
   "cell_type": "markdown",
   "id": "bd23026d-0940-423c-becb-84ba46ed8ec0",
   "metadata": {},
   "source": [
    "###### 9.b.iv) Example of string [ start : end : step ] (negative)"
   ]
  },
  {
   "cell_type": "code",
   "execution_count": 304,
   "id": "75b033b5-20b2-4f16-9502-575fd2887c91",
   "metadata": {},
   "outputs": [
    {
     "data": {
      "text/plain": [
       "''"
      ]
     },
     "execution_count": 304,
     "metadata": {},
     "output_type": "execute_result"
    }
   ],
   "source": [
    "series[1:-4:-1]  # This will reverse the string by starting from the end and moving backwards with a step of -1. Strange Right!!"
   ]
  },
  {
   "cell_type": "code",
   "execution_count": 305,
   "id": "b957c883-6f9d-4663-bcc5-68ae6f046389",
   "metadata": {},
   "outputs": [
    {
     "data": {
      "text/plain": [
       "'DnaLreDRob ni eCIl'"
      ]
     },
     "execution_count": 305,
     "metadata": {},
     "output_type": "execute_result"
    }
   ],
   "source": [
    "series[-4:1:-1]  # Use this effectively with good logic"
   ]
  },
  {
   "cell_type": "code",
   "execution_count": 306,
   "id": "0d63f769-6005-4b86-ab3d-5f9363365dfd",
   "metadata": {},
   "outputs": [
    {
     "data": {
      "text/plain": [
       "'   DnaLreDRob ni eCIla '"
      ]
     },
     "execution_count": 306,
     "metadata": {},
     "output_type": "execute_result"
    }
   ],
   "source": [
    "series[::-1]  # This will reverse the string by starting from the end and moving backwards with a step of -1."
   ]
  },
  {
   "cell_type": "markdown",
   "id": "99fbcfc3-6c81-492c-97e9-2c3fce75c6be",
   "metadata": {},
   "source": [
    "<div class=\"alert-info\">\n",
    "10) Write a Python program to reverse a string.\n",
    "</div>"
   ]
  },
  {
   "cell_type": "markdown",
   "id": "879187a4-a4f9-4294-81f2-7d86d63068b3",
   "metadata": {},
   "source": [
    "###### 10.i) Write a Python program to reverse a string. - I (using slicing)"
   ]
  },
  {
   "cell_type": "code",
   "execution_count": 257,
   "id": "ee9d0667-9483-4546-b82a-d5aec38d6743",
   "metadata": {},
   "outputs": [
    {
     "name": "stdout",
     "output_type": "stream",
     "text": [
      "Main String :  alICe in boRDerLanD   \n",
      "Reversed String :    DnaLreDRob ni eCIla \n"
     ]
    }
   ],
   "source": [
    "print(f'Main String : {series}')\n",
    "print(f'Reversed String : {series[::-1]}')"
   ]
  },
  {
   "cell_type": "markdown",
   "id": "78563873-1ecb-4ebe-b720-d93113f933f3",
   "metadata": {},
   "source": [
    "###### 10.b.ii) Write a Python program to reverse a string. - II (using reverse method)"
   ]
  },
  {
   "cell_type": "code",
   "execution_count": 259,
   "id": "3cf9a689-996e-4bb7-ad15-4afed13a399d",
   "metadata": {},
   "outputs": [
    {
     "data": {
      "text/plain": [
       "'   DnaLreDRob ni eCIla '"
      ]
     },
     "execution_count": 259,
     "metadata": {},
     "output_type": "execute_result"
    }
   ],
   "source": [
    "''.join(reversed(series))"
   ]
  },
  {
   "cell_type": "markdown",
   "id": "8a30792d-f751-423b-b0fd-ca919ec99286",
   "metadata": {},
   "source": [
    "###### 10.b.iii) Write a Python program to reverse a string. - III (using a loop)"
   ]
  },
  {
   "cell_type": "code",
   "execution_count": 274,
   "id": "00822d1e-4967-4a04-b22f-2ab78d978b82",
   "metadata": {},
   "outputs": [
    {
     "data": {
      "text/plain": [
       "'   DnaLreDRob ni eCIla '"
      ]
     },
     "execution_count": 274,
     "metadata": {},
     "output_type": "execute_result"
    }
   ],
   "source": [
    "series = \" alICe in boRDerLanD   \"\n",
    "reversed_series = ''\n",
    "for c in series:\n",
    "    reversed_series = c + reversed_series  # Only matters where we are appending (with +) after or before\n",
    "reversed_series"
   ]
  },
  {
   "cell_type": "markdown",
   "id": "f4984a13-a3e7-4342-892b-9291f72582da",
   "metadata": {},
   "source": [
    "###### 10.b.iv) Write a Python program to reverse a string. - IV (Using Stack-pop)"
   ]
  },
  {
   "cell_type": "markdown",
   "id": "403608d9-a869-447e-9786-e1dfa4f37afb",
   "metadata": {},
   "source": [
    "+ data structure pop, either in Dictionary or in List, always follows FIFO - First In First Out"
   ]
  },
  {
   "cell_type": "code",
   "execution_count": 323,
   "id": "04accc58-fd66-4a68-914a-0250168a8482",
   "metadata": {},
   "outputs": [
    {
     "name": "stdout",
     "output_type": "stream",
     "text": [
      "   DnaLreDRob ni eCIla \n"
     ]
    }
   ],
   "source": [
    "series = \" alICe in boRDerLanD   \"  # Sample string\n",
    "stack = list(series)                # Reversing the string using a stack\n",
    "reversed_series = ''\n",
    "while stack:\n",
    "    reversed_series += stack.pop()  # Stack pop follows FIFO - First In First Out and it returns the element after pop-up (deleting)\n",
    "print(reversed_series)"
   ]
  },
  {
   "cell_type": "code",
   "execution_count": 314,
   "id": "160a2f42-54a2-416f-99a0-f196998d1f15",
   "metadata": {},
   "outputs": [
    {
     "data": {
      "text/plain": [
       "'   DnaLreDRob ni eCIla '"
      ]
     },
     "execution_count": 314,
     "metadata": {},
     "output_type": "execute_result"
    }
   ],
   "source": [
    "reversed_series"
   ]
  },
  {
   "cell_type": "code",
   "execution_count": 321,
   "id": "29371d49-c633-4bbf-8ee8-6966b1d4a8b0",
   "metadata": {},
   "outputs": [
    {
     "data": {
      "text/plain": [
       "list"
      ]
     },
     "execution_count": 321,
     "metadata": {},
     "output_type": "execute_result"
    }
   ],
   "source": [
    "type(list(series))   # Still output is list not stack, because stack is implementation data structure behind the List"
   ]
  },
  {
   "cell_type": "markdown",
   "id": "d21a0745-d230-43c0-8e64-192eea7a9130",
   "metadata": {},
   "source": [
    "<div class=\"alert-info\">\n",
    "11) Explain the different types of loops in Python (for and while) with examples.\n",
    "</div>"
   ]
  },
  {
   "cell_type": "markdown",
   "id": "0da16275-1107-4d73-a23d-50de0ea8426b",
   "metadata": {},
   "source": [
    "###### 11.a) Explain the different types of loops in Python (for and while) with examples."
   ]
  },
  {
   "cell_type": "markdown",
   "id": "13cb86c3-5da4-4cbe-a278-c8f9e0a5edc3",
   "metadata": {},
   "source": [
    "> Mainly two types of loops:\n",
    "+ for loop: \n",
    "The for loop is used for iterating over a sequence (such as a list, tuple, string, or range) or any iterable object. It executes a block of code a fixed number of times, based on the elements in the sequence\n",
    "+ while loop: The while loop is used to repeatedly execute a block of code as long as a specified condition is true. It continues to execute the block until the condition becomes false.dd."
   ]
  },
  {
   "cell_type": "markdown",
   "id": "dc1c1e8e-2fa0-4b29-a368-9cb574d2bb32",
   "metadata": {},
   "source": [
    "###### 11.b.i) Normal For Loop Example"
   ]
  },
  {
   "cell_type": "markdown",
   "id": "16eed306-53f2-4f9e-8483-a8a0e3a8391c",
   "metadata": {},
   "source": [
    "> 11.i - Normal for loop I"
   ]
  },
  {
   "cell_type": "code",
   "execution_count": 448,
   "id": "f11d364c-683f-4ce2-a0f7-4a0b8913f55b",
   "metadata": {},
   "outputs": [
    {
     "name": "stdout",
     "output_type": "stream",
     "text": [
      "name\n",
      "Alice\n",
      "age\n",
      "16\n",
      "city\n",
      "Wonderland\n",
      "index\n",
      "1\n"
     ]
    }
   ],
   "source": [
    "data = ['name', 'Alice', 'age', 16, 'city', 'Wonderland', 'index', 1]\n",
    "for val in data:   # Loop on List items \n",
    "    print(val)"
   ]
  },
  {
   "cell_type": "markdown",
   "id": "173ecaad-9e48-4f5e-8d8b-130e70f5579d",
   "metadata": {},
   "source": [
    "> 11.ii - Normal loop II"
   ]
  },
  {
   "cell_type": "code",
   "execution_count": 446,
   "id": "a956669a-6e81-4929-a6eb-87f158c4d319",
   "metadata": {},
   "outputs": [
    {
     "name": "stdout",
     "output_type": "stream",
     "text": [
      "('name', 'Alice')\n",
      "('age', 16)\n",
      "('city', 'Wonderland')\n",
      "('index', 1)\n"
     ]
    }
   ],
   "source": [
    "my_dict = {'name': 'Alice', 'age': 16, 'city': 'Wonderland', 'index': 1}\n",
    "for item in my_dict.items():    # Loop on Map items I\n",
    "    print(item)"
   ]
  },
  {
   "cell_type": "code",
   "execution_count": 341,
   "id": "fd4007bd-780d-4c3f-a4f5-b716fb3a3454",
   "metadata": {},
   "outputs": [
    {
     "name": "stdout",
     "output_type": "stream",
     "text": [
      "Alice\n",
      "16\n",
      "Wonderland\n",
      "1\n"
     ]
    }
   ],
   "source": [
    "for value in my_dict.values():  # Loop on Map items II \n",
    "    print(value)"
   ]
  },
  {
   "cell_type": "markdown",
   "id": "961ee45f-836c-4f16-8136-7b17604dfdb1",
   "metadata": {},
   "source": [
    "###### 11.b.ii)  Advance for loops"
   ]
  },
  {
   "cell_type": "markdown",
   "id": "de6f0d61-c1c8-4fd5-aae4-169f5ea30d16",
   "metadata": {},
   "source": [
    "> 11.iii - Using enumerate() for Indexed Iteration\n",
    "+ The enumerate() function adds a counter to an iterable and returns it as an enumerate object, which can be converted to a list of tuples."
   ]
  },
  {
   "cell_type": "code",
   "execution_count": 53,
   "id": "b6b16b2f-227a-4089-a8a5-51bed98b6891",
   "metadata": {},
   "outputs": [],
   "source": [
    "my_dict = {'name': 'Alice', 'age': 16, 'city': 'Wonderland', 'index': 1}\n",
    "your_dict = {'gender': 'Female', 'hobby': 'Reading Books', 'friend': 'Rabbit', 'index': 1}"
   ]
  },
  {
   "cell_type": "code",
   "execution_count": 367,
   "id": "710c107a-bbf9-4dd1-85c1-bff0dd7dd598",
   "metadata": {},
   "outputs": [
    {
     "name": "stdout",
     "output_type": "stream",
     "text": [
      "Index: 0, Value: Alice\n",
      "Index: 1, Value: 16\n",
      "Index: 2, Value: Wonderland\n",
      "Index: 3, Value: 1\n"
     ]
    }
   ],
   "source": [
    "for index, value in enumerate(my_dict.values()):\n",
    "    print(f\"Index: {index}, Value: {value}\")"
   ]
  },
  {
   "cell_type": "markdown",
   "id": "974adbf4-e7f8-4792-b9ec-f192cd431a6c",
   "metadata": {},
   "source": [
    "> 11.iv - Using zip() to Iterate Over Multiple Iterables\n",
    "+ The zip() function allows us to iterate over multiple iterables (lists, tuples, etc.) in parallel."
   ]
  },
  {
   "cell_type": "code",
   "execution_count": 351,
   "id": "d48b7c1b-6522-4c49-9fd0-539089a89589",
   "metadata": {},
   "outputs": [
    {
     "name": "stdout",
     "output_type": "stream",
     "text": [
      "name is Alice.\n",
      "age is 16.\n",
      "city is Wonderland.\n",
      "index is 1.\n"
     ]
    }
   ],
   "source": [
    "keys = my_dict.keys()\n",
    "values = my_dict.values()\n",
    "\n",
    "for key, value in zip(keys, values):\n",
    "    print(f\"{key} is {value}.\")\n"
   ]
  },
  {
   "cell_type": "markdown",
   "id": "00f1ab35-b128-4fc9-be0c-9834b1824a08",
   "metadata": {},
   "source": [
    "> 11.v - List Comprehensions\n",
    "+ List comprehensions provide a concise way to create lists. They consist of brackets containing an expression followed by a for clause."
   ]
  },
  {
   "cell_type": "code",
   "execution_count": 54,
   "id": "cc653f66-af2e-4d68-bd1a-031664406b6a",
   "metadata": {},
   "outputs": [],
   "source": [
    "numbers = [1, 2, 3, 4, 5, -5, -4, 3, 2, 1]"
   ]
  },
  {
   "cell_type": "code",
   "execution_count": 358,
   "id": "3d500583-6e93-4792-8d72-06bd8c39e19f",
   "metadata": {},
   "outputs": [
    {
     "name": "stdout",
     "output_type": "stream",
     "text": [
      "[1, 4, 9, 16, 25, 25, 16, 9, 4, 1]\n"
     ]
    }
   ],
   "source": [
    "squares = [x ** 2 for x in numbers]\n",
    "print(squares)"
   ]
  },
  {
   "cell_type": "code",
   "execution_count": 362,
   "id": "7d5c6744-a180-4538-9d8f-75177679b116",
   "metadata": {},
   "outputs": [
    {
     "data": {
      "text/plain": [
       "list"
      ]
     },
     "execution_count": 362,
     "metadata": {},
     "output_type": "execute_result"
    }
   ],
   "source": [
    "type(squares)"
   ]
  },
  {
   "cell_type": "markdown",
   "id": "2445fe22-989f-4c01-bf2e-42d923d0f01f",
   "metadata": {},
   "source": [
    "> 11.vi - Dictionary Comprehensions\r",
    "+ Similar to list comprehensions, but used to construct dictionaries."
   ]
  },
  {
   "cell_type": "code",
   "execution_count": 360,
   "id": "c38940b5-cf30-4d08-bab9-1eb67881daef",
   "metadata": {},
   "outputs": [
    {
     "name": "stdout",
     "output_type": "stream",
     "text": [
      "{1: 1, 2: 4, 3: 9, 4: 16, 5: 25, -5: 25, -4: 16}\n"
     ]
    }
   ],
   "source": [
    "squared_dict = {x: x ** 2 for x in numbers}\n",
    "print(squared_dict)  # Dictionary removes duplicates"
   ]
  },
  {
   "cell_type": "code",
   "execution_count": 363,
   "id": "858fc529-53c2-48e9-b8cd-6df01b613042",
   "metadata": {},
   "outputs": [
    {
     "data": {
      "text/plain": [
       "dict"
      ]
     },
     "execution_count": 363,
     "metadata": {},
     "output_type": "execute_result"
    }
   ],
   "source": [
    "type(squared_dict)"
   ]
  },
  {
   "cell_type": "markdown",
   "id": "98f3e78b-efea-40e6-8b26-72b50f8a3b90",
   "metadata": {},
   "source": [
    "> 11.vii - Set Comprehensions\n",
    "+ Used to construct sets in a similar way to list comprehensions."
   ]
  },
  {
   "cell_type": "code",
   "execution_count": 365,
   "id": "d861adf2-07be-472e-8807-6bd1673879d2",
   "metadata": {},
   "outputs": [
    {
     "name": "stdout",
     "output_type": "stream",
     "text": [
      "{1, 4, 9, 16, 25}\n"
     ]
    }
   ],
   "source": [
    "squared_set = {x ** 2 for x in numbers}\n",
    "print(squared_set)"
   ]
  },
  {
   "cell_type": "code",
   "execution_count": 366,
   "id": "8e33e6b7-2f21-4660-ab2d-a79078d43fba",
   "metadata": {},
   "outputs": [
    {
     "data": {
      "text/plain": [
       "set"
      ]
     },
     "execution_count": 366,
     "metadata": {},
     "output_type": "execute_result"
    }
   ],
   "source": [
    "type(squared_set)"
   ]
  },
  {
   "cell_type": "markdown",
   "id": "a804c8aa-4be0-4547-92a6-c906dc2cb9f1",
   "metadata": {},
   "source": [
    "> 11.viii - Iterating with itertools\n",
    "+ The itertools module provides a set of fast, memory-efficient tools for iterating over iterables."
   ]
  },
  {
   "cell_type": "markdown",
   "id": "b1a5e1e9-e89a-4f3d-ac3c-da1491d73901",
   "metadata": {},
   "source": [
    "> 11.viii.a - `itertools.product()` - Cartesian product of input iterables."
   ]
  },
  {
   "cell_type": "code",
   "execution_count": 371,
   "id": "dd49e496-8a9b-4d5a-94cc-3916cfb4057b",
   "metadata": {},
   "outputs": [
    {
     "name": "stdout",
     "output_type": "stream",
     "text": [
      "(1, 'a')\n",
      "(1, 'b')\n",
      "(2, 'a')\n",
      "(2, 'b')\n"
     ]
    }
   ],
   "source": [
    "import itertools\n",
    "for combo in itertools.product([1, 2], ['a', 'b']):\n",
    "    print(combo)"
   ]
  },
  {
   "cell_type": "code",
   "execution_count": 372,
   "id": "82ca5b25-f713-45db-b619-70c7e8aebb8f",
   "metadata": {},
   "outputs": [
    {
     "name": "stdout",
     "output_type": "stream",
     "text": [
      "('name', 'Alice')\n",
      "('name', 16)\n",
      "('name', 'Wonderland')\n",
      "('name', 1)\n",
      "('age', 'Alice')\n",
      "('age', 16)\n",
      "('age', 'Wonderland')\n",
      "('age', 1)\n",
      "('city', 'Alice')\n",
      "('city', 16)\n",
      "('city', 'Wonderland')\n",
      "('city', 1)\n",
      "('index', 'Alice')\n",
      "('index', 16)\n",
      "('index', 'Wonderland')\n",
      "('index', 1)\n"
     ]
    }
   ],
   "source": [
    "import itertools\n",
    "for combo in itertools.product(my_dict.keys(), my_dict.values()):\n",
    "    print(combo)"
   ]
  },
  {
   "cell_type": "markdown",
   "id": "7e410448-446e-4e40-85f3-84077f2f18cc",
   "metadata": {},
   "source": [
    "> 11.viii.b `itertools.permutations()` - \n",
    "All possible permutations of the input iterable."
   ]
  },
  {
   "cell_type": "code",
   "execution_count": 373,
   "id": "457d0351-4fad-4cbc-bad4-69302243ae54",
   "metadata": {},
   "outputs": [
    {
     "name": "stdout",
     "output_type": "stream",
     "text": [
      "(1, 2, 3)\n",
      "(1, 3, 2)\n",
      "(2, 1, 3)\n",
      "(2, 3, 1)\n",
      "(3, 1, 2)\n",
      "(3, 2, 1)\n"
     ]
    }
   ],
   "source": [
    "import itertools\n",
    "for perm in itertools.permutations([1, 2, 3]):\n",
    "    print(perm)"
   ]
  },
  {
   "cell_type": "code",
   "execution_count": 376,
   "id": "97a324a8-7579-436a-bc55-7eefd78d8aa1",
   "metadata": {},
   "outputs": [
    {
     "name": "stdout",
     "output_type": "stream",
     "text": [
      "('name', 'age', 'city', 'index')\n",
      "('name', 'age', 'index', 'city')\n",
      "('name', 'city', 'age', 'index')\n",
      "('name', 'city', 'index', 'age')\n",
      "('name', 'index', 'age', 'city')\n",
      "('name', 'index', 'city', 'age')\n",
      "('age', 'name', 'city', 'index')\n",
      "('age', 'name', 'index', 'city')\n",
      "('age', 'city', 'name', 'index')\n",
      "('age', 'city', 'index', 'name')\n",
      "('age', 'index', 'name', 'city')\n",
      "('age', 'index', 'city', 'name')\n",
      "('city', 'name', 'age', 'index')\n",
      "('city', 'name', 'index', 'age')\n",
      "('city', 'age', 'name', 'index')\n",
      "('city', 'age', 'index', 'name')\n",
      "('city', 'index', 'name', 'age')\n",
      "('city', 'index', 'age', 'name')\n",
      "('index', 'name', 'age', 'city')\n",
      "('index', 'name', 'city', 'age')\n",
      "('index', 'age', 'name', 'city')\n",
      "('index', 'age', 'city', 'name')\n",
      "('index', 'city', 'name', 'age')\n",
      "('index', 'city', 'age', 'name')\n"
     ]
    }
   ],
   "source": [
    "import itertools\n",
    "for perm in itertools.permutations(my_dict.keys()):\n",
    "    print(perm)"
   ]
  },
  {
   "cell_type": "markdown",
   "id": "10e4e9a4-05ca-4156-8dac-92692afa74ac",
   "metadata": {},
   "source": [
    "> 11.viii.c `itertools.combinations()` - All possible combinations of the input iterable with a specified length."
   ]
  },
  {
   "cell_type": "code",
   "execution_count": 377,
   "id": "38a03e27-68b3-4fd4-a225-97b043d31ab7",
   "metadata": {},
   "outputs": [
    {
     "name": "stdout",
     "output_type": "stream",
     "text": [
      "(1, 2)\n",
      "(1, 3)\n",
      "(2, 3)\n"
     ]
    }
   ],
   "source": [
    "import itertools\n",
    "for combo in itertools.combinations([1, 2, 3], 2):\n",
    "    print(combo)"
   ]
  },
  {
   "cell_type": "code",
   "execution_count": 379,
   "id": "a8be6c45-50bc-40fb-a4cf-b1a267ee804b",
   "metadata": {},
   "outputs": [
    {
     "name": "stdout",
     "output_type": "stream",
     "text": [
      "(1, 2, 3)\n"
     ]
    }
   ],
   "source": [
    "import itertools\n",
    "for combo in itertools.combinations([1, 2, 3], 3):\n",
    "    print(combo)"
   ]
  },
  {
   "cell_type": "code",
   "execution_count": 382,
   "id": "0c453dba-76ba-4543-9c90-95ca2a5c464f",
   "metadata": {},
   "outputs": [],
   "source": [
    "import itertools\n",
    "for combo in itertools.combinations([1, 2, 3], 4):\n",
    "    print(combo) # No Output"
   ]
  },
  {
   "cell_type": "code",
   "execution_count": 381,
   "id": "415f2677-e02c-4235-ac0b-c5d3c8eec665",
   "metadata": {},
   "outputs": [
    {
     "name": "stdout",
     "output_type": "stream",
     "text": [
      "(1,)\n",
      "(2,)\n",
      "(3,)\n"
     ]
    }
   ],
   "source": [
    "import itertools\n",
    "for combo in itertools.combinations([1, 2, 3], 1):\n",
    "    print(combo)"
   ]
  },
  {
   "cell_type": "code",
   "execution_count": 383,
   "id": "565202c7-5bd5-425b-96ee-7495365c1ebf",
   "metadata": {},
   "outputs": [
    {
     "name": "stdout",
     "output_type": "stream",
     "text": [
      "('Alice', 16)\n",
      "('Alice', 'Wonderland')\n",
      "('Alice', 1)\n",
      "(16, 'Wonderland')\n",
      "(16, 1)\n",
      "('Wonderland', 1)\n"
     ]
    }
   ],
   "source": [
    "import itertools\n",
    "for combo in itertools.combinations(my_dict.values(), 2):\n",
    "    print(combo)"
   ]
  },
  {
   "cell_type": "code",
   "execution_count": 384,
   "id": "f2e11041-c8c1-4d19-9e05-e65de60ecfcb",
   "metadata": {},
   "outputs": [
    {
     "name": "stdout",
     "output_type": "stream",
     "text": [
      "('Alice', 16, 'Wonderland', 1)\n"
     ]
    }
   ],
   "source": [
    "import itertools\n",
    "for combo in itertools.combinations(my_dict.values(), 4):\n",
    "    print(combo)"
   ]
  },
  {
   "cell_type": "markdown",
   "id": "2822177f-5bac-463b-9664-3e2a663157d1",
   "metadata": {},
   "source": [
    "> 11.ix Nested for Loop\n",
    "+ We can use nested for loops to iterate over multi-dimensional structures.."
   ]
  },
  {
   "cell_type": "code",
   "execution_count": 393,
   "id": "204f19cb-de07-45e7-9b62-f144e74a7786",
   "metadata": {},
   "outputs": [
    {
     "name": "stdout",
     "output_type": "stream",
     "text": [
      "1 2 3 \n",
      "4 5 6 \n",
      "7 8 9 \n"
     ]
    }
   ],
   "source": [
    "matrix = [\n",
    "    [1, 2, 3],\n",
    "    [4, 5, 6],\n",
    "    [7, 8, 9]\n",
    "]\n",
    "for row in matrix:\n",
    "    for element in row:\n",
    "        print(element, end=' ')\n",
    "    print()"
   ]
  },
  {
   "cell_type": "code",
   "execution_count": 72,
   "id": "de3e172f-35d1-488e-823f-ccd1a2735747",
   "metadata": {},
   "outputs": [
    {
     "name": "stdout",
     "output_type": "stream",
     "text": [
      "\n",
      "Key -> name\n",
      "John, Marie, Vicky, Sam, Hu Swan, \n",
      "Key -> age\n",
      "21, 23, 26, 18, 31, \n",
      "Key -> city\n",
      "New York, Los Angeles, Chicago, Houston, Phoenix, "
     ]
    }
   ],
   "source": [
    "dict = {\n",
    "    'name': ['John', 'Marie', 'Vicky', 'Sam', 'Hu Swan'],\n",
    "    'age': [21, 23, 26, 18, 31],\n",
    "    'city': ['New York', 'Los Angeles', 'Chicago', 'Houston', 'Phoenix']\n",
    "}\n",
    "for key,value in dict.items():\n",
    "    print()\n",
    "    print(f'Key -> {key}')\n",
    "    for data in value:\n",
    "        print(data, end=', ')"
   ]
  },
  {
   "cell_type": "markdown",
   "id": "a928a999-8858-4008-9375-519378d21428",
   "metadata": {},
   "source": [
    "> 11.x Using else with Loops\n",
    "+ The else block after a for loop executes only if the loop completes without encountering a break statement."
   ]
  },
  {
   "cell_type": "code",
   "execution_count": 20,
   "id": "34b392d4-70f2-4536-8a31-91bf29010f17",
   "metadata": {},
   "outputs": [
    {
     "name": "stdout",
     "output_type": "stream",
     "text": [
      "name\n",
      "age\n",
      "city\n",
      "index\n",
      "No more key to display.\n"
     ]
    }
   ],
   "source": [
    "keys = my_dict.keys()\n",
    "for key in keys:  # without break statement\n",
    "    print(key)\n",
    "else:\n",
    "    print(\"No more key to display.\")"
   ]
  },
  {
   "cell_type": "code",
   "execution_count": 405,
   "id": "aa9c57a3-4819-488c-b5ab-3be427be835b",
   "metadata": {},
   "outputs": [
    {
     "name": "stdout",
     "output_type": "stream",
     "text": [
      "name\n",
      "age\n",
      "city\n"
     ]
    }
   ],
   "source": [
    "keys = my_dict.keys()\n",
    "for key in keys:\n",
    "    if key == 'index':\n",
    "        break     # with break statement\n",
    "    print(key)\n",
    "else:\n",
    "    print(\"No more key to display.\")"
   ]
  },
  {
   "cell_type": "markdown",
   "id": "fa86a512-1196-45c0-bf3b-d72b736f879b",
   "metadata": {},
   "source": [
    "> 11.xi  Iterating Over a Dictionary\n",
    "+ We can iterate over a dictionary’s keys, values, or key-value pairs."
   ]
  },
  {
   "cell_type": "code",
   "execution_count": 431,
   "id": "d5befac5-5899-49bf-bfec-2a67f48d288c",
   "metadata": {},
   "outputs": [
    {
     "name": "stdout",
     "output_type": "stream",
     "text": [
      "******** Printing only Dictionary's keys *********\n",
      "name\n",
      "age\n",
      "city\n",
      "gender\n",
      "hobby\n",
      "friend\n",
      "index\n",
      "******* Printing only Dictionary's values ********\n",
      "Alice\n",
      "30\n",
      "New York\n",
      "Female\n",
      "Reading Books\n",
      "Rabbit\n",
      "1\n",
      "************ Printing Key-Value pair *************\n",
      "name: Alice\n",
      "age: 30\n",
      "city: New York\n",
      "gender: Female\n",
      "hobby: Reading Books\n",
      "friend: Rabbit\n",
      "index: 1\n"
     ]
    }
   ],
   "source": [
    "merge_dict = my_dict.copy()\n",
    "merge_dict.update(your_dict)\n",
    "\n",
    "# Iterating over keys\n",
    "print(\" Printing only Dictionary's keys \".center(50, '*'))\n",
    "for key in merge_dict.keys():\n",
    "    print(key)\n",
    "\n",
    "# Iterating over values\n",
    "print(\" Printing only Dictionary's values \".center(50, '*'))\n",
    "for value in merge_dict.values():\n",
    "    print(value)\n",
    "\n",
    "# Iterating over key-value pairs\n",
    "print(\" Printing Key-Value pair \".center(50, '*'))\n",
    "for key, value in merge_dict.items():\n",
    "    print(f\"{key}: {value}\")"
   ]
  },
  {
   "cell_type": "markdown",
   "id": "b8fa91c0-f8e1-49bf-bc89-8b85819d7b6a",
   "metadata": {},
   "source": [
    "###### 11.b.i) Normal For Loop Example"
   ]
  },
  {
   "cell_type": "markdown",
   "id": "43f349d4-df64-4343-b03a-cc473245bfe1",
   "metadata": {},
   "source": [
    "> 11.xii - Normal while loop"
   ]
  },
  {
   "cell_type": "markdown",
   "id": "94141630-9f55-426d-bd6c-fae91a84e938",
   "metadata": {},
   "source": [
    "count = 0\n",
    "while count < 5:\n",
    "    print(f\"Count is {count}\")\n",
    "    count += 1"
   ]
  },
  {
   "cell_type": "markdown",
   "id": "4de09a48-230f-4303-99e7-950a06577c02",
   "metadata": {},
   "source": [
    "> 11.xiii - Normal while loop with else"
   ]
  },
  {
   "cell_type": "code",
   "execution_count": 453,
   "id": "f7dd7220-0a3e-42af-baf6-0340fe086ed7",
   "metadata": {},
   "outputs": [
    {
     "name": "stdout",
     "output_type": "stream",
     "text": [
      "Count is 0\n",
      "Count is 1\n",
      "Count is 2\n",
      "Count is 3\n",
      "Count is 4\n",
      "Loop completed\n"
     ]
    }
   ],
   "source": [
    "count = 0\n",
    "while count < 5:\n",
    "    print(f\"Count is {count}\")\n",
    "    count += 1\n",
    "else:\n",
    "    print(\"Loop completed\")"
   ]
  },
  {
   "cell_type": "markdown",
   "id": "44211c9c-ea52-4235-88dd-1520be08372e",
   "metadata": {},
   "source": [
    "> 11.xiv - Normal while loop with `break` `continue` and `else`"
   ]
  },
  {
   "cell_type": "code",
   "execution_count": 10,
   "id": "14b54611-d386-45b6-a2dc-c4e9e6138b42",
   "metadata": {},
   "outputs": [
    {
     "name": "stdout",
     "output_type": "stream",
     "text": [
      "Number is 1\n",
      "Number is 2\n",
      "Number is 3\n",
      "Number is 4\n",
      "Number is 5\n",
      "Number is 3\n",
      "Number is 2\n",
      "Number is 1\n",
      "Loop completed without break\n"
     ]
    }
   ],
   "source": [
    "numbers = [1, 2, 3, 4, 5, -5, -4, 3, 2, 1]\n",
    "count = 0\n",
    "while count < len(numbers):\n",
    "    num = numbers[count]\n",
    "    count += 1\n",
    "    if num == 0:  # if 0 found then break the entire loop execution\n",
    "        break\n",
    "    elif num < 0:   # if -ve number found then don't go below statement, but execute the next loop iteration\n",
    "        continue\n",
    "    else:\n",
    "        print(f\"Number is {num}\")\n",
    "else:\n",
    "    print(\"Loop completed without break\")"
   ]
  },
  {
   "cell_type": "code",
   "execution_count": 24,
   "id": "8e26908c-7316-4078-848f-3500606920b5",
   "metadata": {},
   "outputs": [
    {
     "name": "stdout",
     "output_type": "stream",
     "text": [
      "Number is 1\n",
      "Number is 2\n",
      "Number is 3\n",
      "Number is 4\n",
      "Number is 5\n",
      "Number is 3\n",
      "Number is 2\n",
      "Number is 1\n"
     ]
    }
   ],
   "source": [
    "numbers = [1, 2, 3, 4, 5, -5, -4, 3, 2, 1, 0, -1, 9]\n",
    "count = 0\n",
    "while count < len(numbers):\n",
    "    num = numbers[count]\n",
    "    count += 1\n",
    "    if num == 0:  # if 0 found then break the entire loop execution\n",
    "        break\n",
    "    elif num < 0:   # if -ve number found then don't go below statement, but execute the next loop iteration\n",
    "        continue\n",
    "    else:\n",
    "        print(f\"Number is {num}\")\n",
    "else:\n",
    "    print(\"Loop completed without break\")"
   ]
  },
  {
   "cell_type": "markdown",
   "id": "242d2b2e-f399-41bc-8114-f62ade47c04a",
   "metadata": {},
   "source": [
    "> 11.xv - Infinite while Loop with Conditional Break\n",
    "+ An infinite loop can be useful, especially when combined with a condition to break out of the loop."
   ]
  },
  {
   "cell_type": "code",
   "execution_count": 14,
   "id": "34be5077-a9ac-481f-bcae-f18072cea69c",
   "metadata": {},
   "outputs": [
    {
     "name": "stdout",
     "output_type": "stream",
     "text": [
      "Count is 0\n",
      "Count is 1\n",
      "Count is 2\n",
      "Count is 3\n",
      "Count is 4\n"
     ]
    }
   ],
   "source": [
    "count = 0\n",
    "while True:\n",
    "    print(f\"Count is {count}\")\n",
    "    count += 1\n",
    "    if count >= 5:\n",
    "        break"
   ]
  },
  {
   "cell_type": "markdown",
   "id": "abff4d1d-c239-45d3-b384-fddef6e56ac4",
   "metadata": {},
   "source": [
    "> 11.xvi - Using while Loop for Input Validation\n",
    "+ A while loop is useful for repeatedly asking for user input until a valid response is given."
   ]
  },
  {
   "cell_type": "code",
   "execution_count": 17,
   "id": "68fdc5b9-94e9-412c-bbf9-a5fd8cb7a755",
   "metadata": {},
   "outputs": [
    {
     "name": "stdin",
     "output_type": "stream",
     "text": [
      "Enter a number greater than 10 and lesser than 100:  0\n"
     ]
    },
    {
     "name": "stdout",
     "output_type": "stream",
     "text": [
      "Invalid input. Please try again.\n"
     ]
    },
    {
     "name": "stdin",
     "output_type": "stream",
     "text": [
      "Enter a number greater than 10 and lesser than 100:  -11\n"
     ]
    },
    {
     "name": "stdout",
     "output_type": "stream",
     "text": [
      "Invalid input. Please try again.\n"
     ]
    },
    {
     "name": "stdin",
     "output_type": "stream",
     "text": [
      "Enter a number greater than 10 and lesser than 100:  T\n"
     ]
    },
    {
     "name": "stdout",
     "output_type": "stream",
     "text": [
      "Invalid input. Please try again.\n"
     ]
    },
    {
     "name": "stdin",
     "output_type": "stream",
     "text": [
      "Enter a number greater than 10 and lesser than 100:  01010101101\n"
     ]
    },
    {
     "name": "stdout",
     "output_type": "stream",
     "text": [
      "Invalid input. Please try again.\n"
     ]
    },
    {
     "name": "stdin",
     "output_type": "stream",
     "text": [
      "Enter a number greater than 10 and lesser than 100:  100\n"
     ]
    },
    {
     "name": "stdout",
     "output_type": "stream",
     "text": [
      "Invalid input. Please try again.\n"
     ]
    },
    {
     "name": "stdin",
     "output_type": "stream",
     "text": [
      "Enter a number greater than 10 and lesser than 100:  11 11 11 11 \n"
     ]
    },
    {
     "name": "stdout",
     "output_type": "stream",
     "text": [
      "Invalid input. Please try again.\n"
     ]
    },
    {
     "name": "stdin",
     "output_type": "stream",
     "text": [
      "Enter a number greater than 10 and lesser than 100:  21\n"
     ]
    },
    {
     "name": "stdout",
     "output_type": "stream",
     "text": [
      "Thank you! You entered 21.\n"
     ]
    }
   ],
   "source": [
    "while True:\n",
    "    user_input = input(\"Enter a number greater than 10 and lesser than 100: \")\n",
    "    if user_input.isdigit() and int(user_input) > 10 and int(user_input) < 100:\n",
    "        print(f\"Thank you! You entered {user_input}.\")\n",
    "        break\n",
    "    else:\n",
    "        print(\"Invalid input. Please try again.\")"
   ]
  },
  {
   "cell_type": "markdown",
   "id": "34ce7acb-f39a-4386-9b08-9767fbdf321b",
   "metadata": {},
   "source": [
    "> 11.xvii -  Normal Nested while Loops\r",
    "+ Weu can nest while loops inside each other, which is useful for multi-level iteration."
   ]
  },
  {
   "cell_type": "code",
   "execution_count": 21,
   "id": "97e672d8-880c-4fd1-b1f7-dd998a58bcd1",
   "metadata": {},
   "outputs": [
    {
     "name": "stdout",
     "output_type": "stream",
     "text": [
      "i = 1, j = 1\n",
      "i = 1, j = 2\n",
      "i = 1, j = 3\n",
      "i = 2, j = 1\n",
      "i = 2, j = 2\n",
      "i = 2, j = 3\n",
      "i = 3, j = 1\n",
      "i = 3, j = 2\n",
      "i = 3, j = 3\n"
     ]
    }
   ],
   "source": [
    "i = 1\n",
    "while i <= 3:\n",
    "    j = 1\n",
    "    while j <= 3:\n",
    "        print(f\"i = {i}, j = {j}\")\n",
    "        j += 1\n",
    "    i += 1"
   ]
  },
  {
   "cell_type": "markdown",
   "id": "175f3629-8144-4184-9a6c-c4addaadf04b",
   "metadata": {},
   "source": [
    "> 11.xviii - Using while Loop with `iter()` and `next()`\n",
    "+ We can use a while loop with iter() and next() for custom iteration over an iterable."
   ]
  },
  {
   "cell_type": "code",
   "execution_count": 26,
   "id": "ec04ef3f-2a9b-496d-a0d1-e1b0386dc10e",
   "metadata": {},
   "outputs": [
    {
     "name": "stdout",
     "output_type": "stream",
     "text": [
      "1\n",
      "2\n",
      "3\n",
      "4\n",
      "5\n",
      "-5\n",
      "-4\n",
      "3\n",
      "2\n",
      "1\n",
      "0\n",
      "-1\n",
      "9\n"
     ]
    }
   ],
   "source": [
    "numbers = [1, 2, 3, 4, 5, -5, -4, 3, 2, 1, 0, -1, 9]\n",
    "iterator = iter(numbers)\n",
    "while True:\n",
    "    try:\n",
    "        number = next(iterator)\n",
    "        print(number)\n",
    "    except StopIteration:\n",
    "        break"
   ]
  },
  {
   "cell_type": "code",
   "execution_count": 31,
   "id": "34e64dd0-846c-4f77-a5f5-27371ceffba7",
   "metadata": {},
   "outputs": [
    {
     "data": {
      "text/plain": [
       "list_iterator"
      ]
     },
     "execution_count": 31,
     "metadata": {},
     "output_type": "execute_result"
    }
   ],
   "source": [
    "type(iterator)"
   ]
  },
  {
   "cell_type": "markdown",
   "id": "bdc00a23-0cb1-41f2-9587-c44d526a1f2f",
   "metadata": {},
   "source": [
    "> 11.xix - Using while Loop with itertools\n",
    "+ The itertools module provides tools for efficient looping. For example, we can use itertools.cycle to iterate infinitely over a list."
   ]
  },
  {
   "cell_type": "code",
   "execution_count": 28,
   "id": "16a09833-3fe1-4727-9229-e33f0e706a84",
   "metadata": {},
   "outputs": [
    {
     "name": "stdout",
     "output_type": "stream",
     "text": [
      "Alice\n",
      "16\n",
      "Wonderland\n",
      "1\n",
      "Alice\n",
      "16\n",
      "Wonderland\n",
      "1\n",
      "Alice\n",
      "16\n"
     ]
    }
   ],
   "source": [
    "import itertools\n",
    "\n",
    "value_cycle = itertools.cycle(my_dict.values())\n",
    "count = 0\n",
    "while count < 10:\n",
    "    print(next(value_cycle))\n",
    "    count += 1"
   ]
  },
  {
   "cell_type": "code",
   "execution_count": 32,
   "id": "412e8d37-39e9-4644-a9b7-cb380a4a0fb4",
   "metadata": {},
   "outputs": [
    {
     "data": {
      "text/plain": [
       "itertools.cycle"
      ]
     },
     "execution_count": 32,
     "metadata": {},
     "output_type": "execute_result"
    }
   ],
   "source": [
    "type(value_cycle)"
   ]
  },
  {
   "cell_type": "markdown",
   "id": "1379807d-7e6f-4a6a-a412-7af01edd4cda",
   "metadata": {},
   "source": [
    "> 11.xx - Complex/Multi Condition in while Loop\n",
    "+ We can use complex conditions in a while loop to control the iteration based on multiple factors."
   ]
  },
  {
   "cell_type": "code",
   "execution_count": 34,
   "id": "f8aa2ed6-0ebe-4958-ae75-eb118a26bb7c",
   "metadata": {},
   "outputs": [
    {
     "name": "stdout",
     "output_type": "stream",
     "text": [
      "a = 0, b = 5\n",
      "a = 1, b = 4\n",
      "a = 2, b = 3\n",
      "a = 3, b = 2\n",
      "a = 4, b = 1\n"
     ]
    }
   ],
   "source": [
    "a = 0\n",
    "b = 5\n",
    "while a < 10 and b > 0:\n",
    "    print(f\"a = {a}, b = {b}\")\n",
    "    a += 1\n",
    "    b -= 1"
   ]
  },
  {
   "cell_type": "markdown",
   "id": "6bafff3c-8b5c-431c-91cb-4c9fd5fede91",
   "metadata": {},
   "source": [
    "> 11.xxi - while Loop for `Processing Data Streams` with `next()`\n",
    "+ A while loop can be used to process data streams where the end of the data is not known in advance."
   ]
  },
  {
   "cell_type": "code",
   "execution_count": 41,
   "id": "5ccff497-1e62-4538-aab4-48203a7ebe1b",
   "metadata": {},
   "outputs": [
    {
     "name": "stdout",
     "output_type": "stream",
     "text": [
      "Received number: 85\n",
      "Received number: 13\n",
      "Received number: 49\n",
      "Received number: 79\n",
      "Received number: 11\n",
      "Received number: 75\n",
      "Received number: 54\n",
      "Received number: 38\n",
      "Received number: 41\n",
      "Received number: 32\n",
      "Received number: 79\n",
      "Received number: 22\n",
      "Received number: 76\n",
      "Received number: 94\n",
      "Number greater than 90 received, stopping.\n"
     ]
    }
   ],
   "source": [
    "import random\n",
    "\n",
    "# Simulating a data stream with random numbers\n",
    "def data_stream():\n",
    "    while True:\n",
    "        yield random.randint(1, 100)\n",
    "\n",
    "def call():\n",
    "    stream = data_stream()\n",
    "    while True:\n",
    "        number = next(stream)\n",
    "        print(f\"Received number: {number}\")\n",
    "        if number > 90:\n",
    "            print(\"Number greater than 90 received, stopping.\")\n",
    "            break\n",
    "call()"
   ]
  },
  {
   "cell_type": "code",
   "execution_count": 39,
   "id": "6518b8ce-b46c-4c51-a46e-765353c7268b",
   "metadata": {},
   "outputs": [
    {
     "name": "stdout",
     "output_type": "stream",
     "text": [
      "Received number: 100\n",
      "Number greater than 90 received, stopping.\n"
     ]
    }
   ],
   "source": [
    "call()"
   ]
  },
  {
   "cell_type": "code",
   "execution_count": 43,
   "id": "4cbbb692-38de-4ab1-bbe8-9253c3cbaf35",
   "metadata": {},
   "outputs": [
    {
     "name": "stdout",
     "output_type": "stream",
     "text": [
      "Received number: 90\n",
      "Received number: 64\n",
      "Received number: 75\n",
      "Received number: 91\n",
      "Number greater than 90 received, stopping.\n"
     ]
    }
   ],
   "source": [
    "call()"
   ]
  },
  {
   "cell_type": "markdown",
   "id": "a4c0e564-1948-4feb-8f7f-317ccdf8140c",
   "metadata": {},
   "source": [
    "<div class=\"alert-info\">\n",
    "12) How do you use the break and continue statements in loops?\n",
    "</div>"
   ]
  },
  {
   "cell_type": "markdown",
   "id": "8eca0793-b943-4267-a025-4faf2b9c8728",
   "metadata": {},
   "source": [
    "###### 12.a) while loop"
   ]
  },
  {
   "cell_type": "markdown",
   "id": "1123f976-7a1c-4baf-b394-bcfe6ee3eb7c",
   "metadata": {},
   "source": [
    "> `break` and `continue` statements in `while` loop"
   ]
  },
  {
   "cell_type": "code",
   "execution_count": 88,
   "id": "712ff3ff-423b-4d64-8688-26b695015303",
   "metadata": {},
   "outputs": [],
   "source": [
    "def validate_with_while(numbers):\n",
    "    count = 0\n",
    "    while count < len(numbers):\n",
    "        num = numbers[count]\n",
    "        count += 1\n",
    "        if num == 0:  # if 0 found then break the entire loop execution\n",
    "            break\n",
    "        elif num < 0:   # if -ve number found then don't go below statement, but execute the next loop iteration\n",
    "            continue\n",
    "        else:\n",
    "            print(f\"Number is {num}\")\n",
    "    else:\n",
    "        print(\"Loop completed without break\")"
   ]
  },
  {
   "cell_type": "code",
   "execution_count": 94,
   "id": "c433d5e8-0217-4ad6-b2a6-ece2aaecec79",
   "metadata": {},
   "outputs": [
    {
     "name": "stdout",
     "output_type": "stream",
     "text": [
      "Number is 1\n",
      "Number is 2\n",
      "Number is 3\n",
      "Number is 4\n",
      "Number is 5\n",
      "Number is 3\n",
      "Loop completed without break\n"
     ]
    }
   ],
   "source": [
    "numbers = [1, 2, 3, 4, 5, -5, -4, 3]\n",
    "validate_with_while(numbers)"
   ]
  },
  {
   "cell_type": "code",
   "execution_count": 90,
   "id": "ce7915ee-f2c2-42c1-ac56-121b8c581fac",
   "metadata": {},
   "outputs": [
    {
     "name": "stdout",
     "output_type": "stream",
     "text": [
      "Number is 1\n",
      "Number is 2\n",
      "Number is 3\n",
      "Number is 4\n",
      "Number is 5\n",
      "Number is 3\n"
     ]
    }
   ],
   "source": [
    "numbers = [1, 2, 3, 4, 5, -5, -4, 3, 0, 2, 1]\n",
    "validate_with_while(numbers)"
   ]
  },
  {
   "cell_type": "markdown",
   "id": "2662aa25-cb22-4cfa-b231-0149d0ec4ad2",
   "metadata": {},
   "source": [
    "######  12.b) for loop"
   ]
  },
  {
   "cell_type": "markdown",
   "id": "60def839-3873-40b9-9337-7ca92c76336d",
   "metadata": {},
   "source": [
    "> `break` and `continue` statements in `for` loop"
   ]
  },
  {
   "cell_type": "code",
   "execution_count": 97,
   "id": "8fc309f4-0d46-47be-a2ef-7c726200f79a",
   "metadata": {},
   "outputs": [],
   "source": [
    "def validate_with_for(numbers):\n",
    "    for number in numbers:\n",
    "        if number == 0:  # if 0 found then break the entire loop execution\n",
    "            break\n",
    "        elif number < 0:   # if -ve number found then don't go below statement, but execute the next loop iteration\n",
    "            continue\n",
    "        else:\n",
    "            print(f\"Number is {number}\")\n",
    "    else:\n",
    "        print(\"Loop completed without break\")"
   ]
  },
  {
   "cell_type": "code",
   "execution_count": 98,
   "id": "3053ad51-f5d2-4390-b13b-1cbcee081afb",
   "metadata": {},
   "outputs": [
    {
     "name": "stdout",
     "output_type": "stream",
     "text": [
      "Number is 1\n",
      "Number is 2\n",
      "Number is 3\n",
      "Number is 4\n",
      "Number is 5\n",
      "Number is 3\n"
     ]
    }
   ],
   "source": [
    "numbers = [1, 2, 3, 4, 5, -5, -4, 3, 0, 2, 1]\n",
    "validate_with_for(numbers)"
   ]
  },
  {
   "cell_type": "code",
   "execution_count": 99,
   "id": "5393cd7e-9328-427d-947b-93456a3d9ed6",
   "metadata": {},
   "outputs": [
    {
     "name": "stdout",
     "output_type": "stream",
     "text": [
      "Number is 1\n",
      "Number is 2\n",
      "Number is 3\n",
      "Number is 4\n",
      "Number is 5\n",
      "Number is 3\n",
      "Loop completed without break\n"
     ]
    }
   ],
   "source": [
    "numbers = [1, 2, 3, 4, 5, -5, -4, 3]\n",
    "validate_with_for(numbers)"
   ]
  },
  {
   "cell_type": "markdown",
   "id": "caf7bdf9-24b8-4d7f-aa44-563729e5dab0",
   "metadata": {},
   "source": [
    "<div class=\"alert-info\">\n",
    "13) Write a Python program to print the multiplication table of a given number using a loop.\n",
    "</div>"
   ]
  },
  {
   "cell_type": "code",
   "execution_count": 103,
   "id": "3266a874-8e31-4b61-bbb3-b002f78513fc",
   "metadata": {},
   "outputs": [],
   "source": [
    "def print_table():\n",
    "    # Get the number from the user\n",
    "    number = int(input(\"Enter a number: \"))\n",
    "    \n",
    "    # Print the multiplication table up to 10\n",
    "    print(f\"Multiplication Table for {number}:\")\n",
    "    \n",
    "    for i in range(1, 11):\n",
    "        result = number * i\n",
    "        print(f\"{number} x {i} = {result}\")"
   ]
  },
  {
   "cell_type": "code",
   "execution_count": 104,
   "id": "e80a216e-cf30-42b1-bcef-0b837669fd92",
   "metadata": {},
   "outputs": [
    {
     "name": "stdin",
     "output_type": "stream",
     "text": [
      "Enter a number:  23\n"
     ]
    },
    {
     "name": "stdout",
     "output_type": "stream",
     "text": [
      "Multiplication Table for 23:\n",
      "23 x 1 = 23\n",
      "23 x 2 = 46\n",
      "23 x 3 = 69\n",
      "23 x 4 = 92\n",
      "23 x 5 = 115\n",
      "23 x 6 = 138\n",
      "23 x 7 = 161\n",
      "23 x 8 = 184\n",
      "23 x 9 = 207\n",
      "23 x 10 = 230\n"
     ]
    }
   ],
   "source": [
    "print_table()"
   ]
  },
  {
   "cell_type": "code",
   "execution_count": 106,
   "id": "4e90c11c-1de5-42a4-8037-c4ef7a466bb7",
   "metadata": {},
   "outputs": [
    {
     "name": "stdin",
     "output_type": "stream",
     "text": [
      "Enter a number:  -2\n"
     ]
    },
    {
     "name": "stdout",
     "output_type": "stream",
     "text": [
      "Multiplication Table for -2:\n",
      "-2 x 1 = -2\n",
      "-2 x 2 = -4\n",
      "-2 x 3 = -6\n",
      "-2 x 4 = -8\n",
      "-2 x 5 = -10\n",
      "-2 x 6 = -12\n",
      "-2 x 7 = -14\n",
      "-2 x 8 = -16\n",
      "-2 x 9 = -18\n",
      "-2 x 10 = -20\n"
     ]
    }
   ],
   "source": [
    "print_table()"
   ]
  },
  {
   "cell_type": "markdown",
   "id": "05165cee-fa71-4d33-94f3-1b16eb5dc078",
   "metadata": {},
   "source": [
    "<div class=\"alert-info\">\n",
    "14) Write a Python program to check if a number is even or odd using conditional statements.\n",
    "</div>"
   ]
  },
  {
   "cell_type": "code",
   "execution_count": 139,
   "id": "ba35fde3-1879-4ff3-89d9-bb2e029ab656",
   "metadata": {},
   "outputs": [],
   "source": [
    "def conditional_check():\n",
    "    \n",
    "    # Get the number from the user\n",
    "    data = input(\"Enter a number: \")\n",
    "    number = 0\n",
    "\n",
    "    # Validate number\n",
    "    if data.isdigit():\n",
    "        number = int(data)\n",
    "    else:\n",
    "        print(f\"Please entre a valid number. {data} is invalid\")\n",
    "        return\n",
    "    \n",
    "    # Check if the number is even or odd\n",
    "    if number == 0:\n",
    "        print(\"Please entre a valid number.\")\n",
    "    elif number % 2 == 0:\n",
    "        print(f\"{number} is an even number.\")\n",
    "    else:\n",
    "        print(f\"{number} is an odd number.\")"
   ]
  },
  {
   "cell_type": "code",
   "execution_count": 140,
   "id": "f00d001b-7980-4fdb-a3c8-fb7ed906b62e",
   "metadata": {},
   "outputs": [
    {
     "name": "stdin",
     "output_type": "stream",
     "text": [
      "Enter a number:  0\n"
     ]
    },
    {
     "name": "stdout",
     "output_type": "stream",
     "text": [
      "Please entre a valid number.\n"
     ]
    }
   ],
   "source": [
    "conditional_check()"
   ]
  },
  {
   "cell_type": "code",
   "execution_count": 141,
   "id": "95b748b1-9ac0-4ff8-87f9-908561ff3d39",
   "metadata": {},
   "outputs": [
    {
     "name": "stdin",
     "output_type": "stream",
     "text": [
      "Enter a number:  -0\n"
     ]
    },
    {
     "name": "stdout",
     "output_type": "stream",
     "text": [
      "Please entre a valid number. -0 is invalid\n"
     ]
    }
   ],
   "source": [
    "conditional_check()"
   ]
  },
  {
   "cell_type": "code",
   "execution_count": 142,
   "id": "e5a0efce-708a-43bd-a764-65dda1efca91",
   "metadata": {},
   "outputs": [
    {
     "name": "stdin",
     "output_type": "stream",
     "text": [
      "Enter a number:  22/7\n"
     ]
    },
    {
     "name": "stdout",
     "output_type": "stream",
     "text": [
      "Please entre a valid number. 22/7 is invalid\n"
     ]
    }
   ],
   "source": [
    "conditional_check()"
   ]
  },
  {
   "cell_type": "code",
   "execution_count": 143,
   "id": "75d10865-631e-4510-b233-8f44e2183e3d",
   "metadata": {},
   "outputs": [
    {
     "name": "stdin",
     "output_type": "stream",
     "text": [
      "Enter a number:  3.14\n"
     ]
    },
    {
     "name": "stdout",
     "output_type": "stream",
     "text": [
      "Please entre a valid number. 3.14 is invalid\n"
     ]
    }
   ],
   "source": [
    "conditional_check()"
   ]
  },
  {
   "cell_type": "code",
   "execution_count": 144,
   "id": "84e855c5-bb4a-42c2-bbfd-8bd0a3386888",
   "metadata": {},
   "outputs": [
    {
     "name": "stdin",
     "output_type": "stream",
     "text": [
      "Enter a number:  -9\n"
     ]
    },
    {
     "name": "stdout",
     "output_type": "stream",
     "text": [
      "Please entre a valid number. -9 is invalid\n"
     ]
    }
   ],
   "source": [
    "conditional_check()"
   ]
  },
  {
   "cell_type": "code",
   "execution_count": 145,
   "id": "feadf1e6-b243-4d03-a4c2-14a988a4c1af",
   "metadata": {},
   "outputs": [
    {
     "name": "stdin",
     "output_type": "stream",
     "text": [
      "Enter a number:  +9\n"
     ]
    },
    {
     "name": "stdout",
     "output_type": "stream",
     "text": [
      "Please entre a valid number. +9 is invalid\n"
     ]
    }
   ],
   "source": [
    "conditional_check()"
   ]
  },
  {
   "cell_type": "code",
   "execution_count": 146,
   "id": "388be394-9673-40fd-b285-c92885067965",
   "metadata": {},
   "outputs": [
    {
     "name": "stdin",
     "output_type": "stream",
     "text": [
      "Enter a number:  12\n"
     ]
    },
    {
     "name": "stdout",
     "output_type": "stream",
     "text": [
      "12 is an even number.\n"
     ]
    }
   ],
   "source": [
    "conditional_check()"
   ]
  },
  {
   "cell_type": "code",
   "execution_count": 147,
   "id": "56d2cc7d-841d-44d7-920d-ab47b3b8b7ab",
   "metadata": {},
   "outputs": [
    {
     "name": "stdin",
     "output_type": "stream",
     "text": [
      "Enter a number:  \n"
     ]
    },
    {
     "name": "stdout",
     "output_type": "stream",
     "text": [
      "Please entre a valid number.  is invalid\n"
     ]
    }
   ],
   "source": [
    "conditional_check()"
   ]
  },
  {
   "cell_type": "code",
   "execution_count": 148,
   "id": "82e7c694-8b2b-4bf7-b1ac-e44cd2316e5a",
   "metadata": {},
   "outputs": [
    {
     "name": "stdin",
     "output_type": "stream",
     "text": [
      "Enter a number:  23\n"
     ]
    },
    {
     "name": "stdout",
     "output_type": "stream",
     "text": [
      "23 is an odd number.\n"
     ]
    }
   ],
   "source": [
    "conditional_check()"
   ]
  },
  {
   "cell_type": "markdown",
   "id": "e32b2ff4-8301-48ec-be4c-e67dd84f6725",
   "metadata": {},
   "source": [
    "<div class=\"alert-info\">\n",
    "15) What is the purpose of functions in Python? How do you define and call a function?\n",
    "</div>"
   ]
  },
  {
   "cell_type": "markdown",
   "id": "79073369-4e5f-4232-8bf8-4353fcc1227b",
   "metadata": {},
   "source": [
    "Functions in Python are reusable blocks of code that perform a specific task. They allow us to break down our program into smaller, modular components, making our code more organized, easier to understand, and maintainable. Functions help in reducing redundancy by allowing us to reuse the same block of code multiple times without having to rewrite it.\n",
    "\n",
    "> Key Features\n",
    "+ Code reusability: Functions allow us to define a block of code once and use it multiple times in our program.\n",
    "+ Modularity: Functions help in organizing code into smaller, manageable parts, making it easier to read and maintain.\n",
    "+ Abstraction: Functions hide the implementation details and provide an interface to interact with the code.\n",
    "+ Encapsulation: Functions encapsulate a piece of code with a specific purpose and scope.\n",
    "\n",
    "> To define a function in Python:\n",
    "+ We use the def keyword, followed by the function name and parentheses ( ) containing optional parameters.\n",
    "+ The function body is indented and contains the code to be executed when the function is called.\n",
    "\n",
    "> To call a function in Python,\n",
    "+ We simply use the function name followed by parentheses ( ) containing any required arguments.\n",
    "+ This invokes the function, causing the code inside the function to be executed."
   ]
  },
  {
   "cell_type": "markdown",
   "id": "339a7d3d-47b2-4685-8677-d6163e8f5176",
   "metadata": {},
   "source": [
    "> 15.i - Defining and Calling a normal function"
   ]
  },
  {
   "cell_type": "code",
   "execution_count": 149,
   "id": "d150f8a4-adc9-4d19-aab0-8bef461e1a51",
   "metadata": {},
   "outputs": [
    {
     "name": "stdout",
     "output_type": "stream",
     "text": [
      "Hello, Alice!\n"
     ]
    }
   ],
   "source": [
    "# Defining a function\n",
    "def greet(name):\n",
    "    return f\"Hello, {name}!\"\n",
    "\n",
    "# Call the function\n",
    "message = greet(\"Alice\")\n",
    "\n",
    "# Printing output from a function\n",
    "print(message)"
   ]
  },
  {
   "cell_type": "markdown",
   "id": "c756c036-0211-4c43-b895-62a3cda63a38",
   "metadata": {},
   "source": [
    "> 15.ii - Defining and Calling a nested function"
   ]
  },
  {
   "cell_type": "code",
   "execution_count": 152,
   "id": "670b25f1-418b-4786-a369-80068cea29e5",
   "metadata": {},
   "outputs": [],
   "source": [
    "# Dictionary to store user profiles\n",
    "user_profiles = {}\n",
    "\n",
    "# Main function to manage user profiles\n",
    "def manage_user_profile(action, username, *args, **kwargs):\n",
    "    def add_user():\n",
    "        if username in user_profiles:\n",
    "            print(f\"User '{username}' already exists.\")\n",
    "        else:\n",
    "            user_profiles[username] = {\n",
    "                'name': kwargs.get('name', 'Unknown'),\n",
    "                'age': kwargs.get('age', None),\n",
    "                'city': kwargs.get('city', 'Unknown')\n",
    "            }\n",
    "            print(f\"User '{username}' added.\")\n",
    "\n",
    "    def update_user():\n",
    "        if username not in user_profiles:\n",
    "            print(f\"User '{username}' does not exist.\")\n",
    "        else:\n",
    "            for key, value in kwargs.items():\n",
    "                if key in user_profiles[username]:\n",
    "                    user_profiles[username][key] = value\n",
    "            print(f\"User '{username}' updated.\")\n",
    "\n",
    "    def display_user():\n",
    "        if username not in user_profiles:\n",
    "            print(f\"User '{username}' does not exist.\")\n",
    "        else:\n",
    "            print(f\"Profile of '{username}': {user_profiles[username]}\")\n",
    "\n",
    "    if action == 'add':\n",
    "        add_user()\n",
    "    elif action == 'update':\n",
    "        update_user()\n",
    "    elif action == 'display':\n",
    "        display_user()\n",
    "    else:\n",
    "        print(\"Invalid action. Use 'add', 'update', or 'display'.\")\n"
   ]
  },
  {
   "cell_type": "code",
   "execution_count": 154,
   "id": "7079c3b3-8141-4da6-9734-1ed55ced8cd2",
   "metadata": {},
   "outputs": [
    {
     "name": "stdout",
     "output_type": "stream",
     "text": [
      "User 'alice' added.\n",
      "User 'alice' updated.\n",
      "Profile of 'alice': {'name': 'Alice', 'age': 31, 'city': 'Los Angeles'}\n",
      "User 'bob' does not exist.\n"
     ]
    }
   ],
   "source": [
    "# Adding a user\n",
    "manage_user_profile('add', 'alice', name='Alice', age=30, city='New York')\n",
    "\n",
    "# Updating the user's profile\n",
    "manage_user_profile('update', 'alice', age=31, city='Los Angeles')\n",
    "\n",
    "# Displaying the user's profile\n",
    "manage_user_profile('display', 'alice')\n",
    "\n",
    "# Trying to display a non-existent user\n",
    "manage_user_profile('display', 'bob')"
   ]
  },
  {
   "cell_type": "code",
   "execution_count": 155,
   "id": "e3a960af-f4bf-40aa-9ba6-2ebfc7ce8bab",
   "metadata": {},
   "outputs": [
    {
     "name": "stdout",
     "output_type": "stream",
     "text": [
      "User 'john' added.\n",
      "User 'john' updated.\n",
      "Profile of 'john': {'name': 'John', 'age': 33, 'city': 'New York'}\n",
      "User 'jacky' does not exist.\n"
     ]
    }
   ],
   "source": [
    "# Adding a user\n",
    "manage_user_profile('add', 'john', name='John', age=32, city='Paris')\n",
    "\n",
    "# Updating the user's profile\n",
    "manage_user_profile('update', 'john', age=33, city='New York')\n",
    "\n",
    "# Displaying the user's profile\n",
    "manage_user_profile('display', 'john')\n",
    "\n",
    "# Trying to display a non-existent user\n",
    "manage_user_profile('display', 'jacky')"
   ]
  },
  {
   "cell_type": "code",
   "execution_count": 157,
   "id": "7c42cd1d-7142-40ba-ae1a-885bd5586148",
   "metadata": {},
   "outputs": [
    {
     "name": "stdout",
     "output_type": "stream",
     "text": [
      "Profile of 'john': {'name': 'John', 'age': 33, 'city': 'New York'}\n",
      "Profile of 'alice': {'name': 'Alice', 'age': 31, 'city': 'Los Angeles'}\n",
      "User 'jacky' does not exist.\n"
     ]
    }
   ],
   "source": [
    "manage_user_profile('display', 'john')\n",
    "manage_user_profile('display', 'alice')\n",
    "manage_user_profile('display', 'jacky')"
   ]
  },
  {
   "cell_type": "markdown",
   "id": "e0288c5e-20ab-4375-a205-7d1514fea134",
   "metadata": {},
   "source": [
    "<div class=\"alert-info\">\n",
    "16) Write a Python function to calculate the factorial of a given number.\n",
    "</div>"
   ]
  },
  {
   "cell_type": "code",
   "execution_count": 160,
   "id": "6659e671-a1b9-4201-aa26-5f660514347c",
   "metadata": {},
   "outputs": [],
   "source": [
    "def factorial(n):\n",
    "    if n == 0:\n",
    "        return 1\n",
    "    else:\n",
    "        return n * factorial(n - 1)\n",
    "\n",
    "def call_factorial():\n",
    "    # Get the number from the user\n",
    "    number = int(input(\"Enter a number: \"))\n",
    "\n",
    "    # Call the factorial function and print the result\n",
    "    result = factorial(number)\n",
    "    print(f\"The factorial of {number} is {result}\")"
   ]
  },
  {
   "cell_type": "code",
   "execution_count": 161,
   "id": "71aea4d2-3277-4238-a155-e61676126863",
   "metadata": {},
   "outputs": [
    {
     "name": "stdin",
     "output_type": "stream",
     "text": [
      "Enter a number:  23\n"
     ]
    },
    {
     "name": "stdout",
     "output_type": "stream",
     "text": [
      "The factorial of 23 is 25852016738884976640000\n"
     ]
    }
   ],
   "source": [
    "call_factorial()"
   ]
  },
  {
   "cell_type": "code",
   "execution_count": 162,
   "id": "beeb9c28-6c98-4597-bdef-dab24a25982d",
   "metadata": {},
   "outputs": [
    {
     "name": "stdin",
     "output_type": "stream",
     "text": [
      "Enter a number:  3\n"
     ]
    },
    {
     "name": "stdout",
     "output_type": "stream",
     "text": [
      "The factorial of 3 is 6\n"
     ]
    }
   ],
   "source": [
    "call_factorial()"
   ]
  },
  {
   "cell_type": "code",
   "execution_count": 163,
   "id": "089c5041-1c08-48a8-bb67-f63b85f26761",
   "metadata": {},
   "outputs": [
    {
     "name": "stdin",
     "output_type": "stream",
     "text": [
      "Enter a number:  0\n"
     ]
    },
    {
     "name": "stdout",
     "output_type": "stream",
     "text": [
      "The factorial of 0 is 1\n"
     ]
    }
   ],
   "source": [
    "call_factorial()"
   ]
  },
  {
   "cell_type": "code",
   "execution_count": 164,
   "id": "e853ca13-9b13-4622-9076-5c774948b86f",
   "metadata": {},
   "outputs": [
    {
     "name": "stdin",
     "output_type": "stream",
     "text": [
      "Enter a number:  1\n"
     ]
    },
    {
     "name": "stdout",
     "output_type": "stream",
     "text": [
      "The factorial of 1 is 1\n"
     ]
    }
   ],
   "source": [
    "call_factorial()"
   ]
  },
  {
   "cell_type": "markdown",
   "id": "357f21b1-2b47-4ef1-a05c-cfe0807591b5",
   "metadata": {},
   "source": [
    "<div class=\"alert-info\">\n",
    "17) Write a Python function to check if a string is a palindrome.\n",
    "</div>"
   ]
  },
  {
   "cell_type": "code",
   "execution_count": 166,
   "id": "61d9d939-7823-47cf-b42e-8f7316a619b5",
   "metadata": {},
   "outputs": [],
   "source": [
    "def is_palindrome(s):\n",
    "    # Remove spaces and convert the string to lowercase\n",
    "    s = s.replace(\" \", \"\").lower()\n",
    "    return s == s[::-1]\n",
    "\n",
    "def check_palindrom():\n",
    "    # Get the string from the user\n",
    "    input_string = input(\"Enter a string: \")\n",
    "\n",
    "    # Check if the input string is a palindrome\n",
    "    if is_palindrome(input_string):\n",
    "        print(f\"'{input_string}' is a palindrome.\")\n",
    "    else:\n",
    "        print(f\"'{input_string}' is not a palindrome.\")\n"
   ]
  },
  {
   "cell_type": "code",
   "execution_count": 167,
   "id": "be7c625b-3d2f-4b18-a39b-b8e0d58f4af9",
   "metadata": {},
   "outputs": [
    {
     "name": "stdin",
     "output_type": "stream",
     "text": [
      "Enter a string:  323\n"
     ]
    },
    {
     "name": "stdout",
     "output_type": "stream",
     "text": [
      "'323' is a palindrome.\n"
     ]
    }
   ],
   "source": [
    "check_palindrom()"
   ]
  },
  {
   "cell_type": "code",
   "execution_count": 168,
   "id": "3a3febb0-c3a9-4ab7-890e-bf8b9f1c5328",
   "metadata": {},
   "outputs": [
    {
     "name": "stdin",
     "output_type": "stream",
     "text": [
      "Enter a string:  321\n"
     ]
    },
    {
     "name": "stdout",
     "output_type": "stream",
     "text": [
      "'321' is not a palindrome.\n"
     ]
    }
   ],
   "source": [
    "check_palindrom()"
   ]
  },
  {
   "cell_type": "code",
   "execution_count": 169,
   "id": "bba1af9f-0ecf-4919-888c-264222c67167",
   "metadata": {},
   "outputs": [
    {
     "name": "stdin",
     "output_type": "stream",
     "text": [
      "Enter a string:  -0-1-0\n"
     ]
    },
    {
     "name": "stdout",
     "output_type": "stream",
     "text": [
      "'-0-1-0' is not a palindrome.\n"
     ]
    }
   ],
   "source": [
    "check_palindrom()"
   ]
  },
  {
   "cell_type": "code",
   "execution_count": 170,
   "id": "b1080ce3-83e0-479f-9e19-93d2af327191",
   "metadata": {},
   "outputs": [
    {
     "name": "stdin",
     "output_type": "stream",
     "text": [
      "Enter a string:  DaLAd\n"
     ]
    },
    {
     "name": "stdout",
     "output_type": "stream",
     "text": [
      "'DaLAd' is a palindrome.\n"
     ]
    }
   ],
   "source": [
    "check_palindrom()"
   ]
  },
  {
   "cell_type": "markdown",
   "id": "16273b1c-f432-4229-89fb-06d682bac3f8",
   "metadata": {},
   "source": [
    "<div class=\"alert-info\">\n",
    "18) Implement a decorator in Python that calculates the execution time of a function.\n",
    "</div>"
   ]
  },
  {
   "cell_type": "markdown",
   "id": "9877d52b-150a-4298-b6fb-d3ce32542853",
   "metadata": {},
   "source": [
    "> In Python, \n",
    "+ We can implement a decorator to calculate the execution time of a function using the time module. \n",
    "+ Decorators are a powerful feature that allows us to modify or enhance the behavior of functions without changing their original code."
   ]
  },
  {
   "cell_type": "code",
   "execution_count": 172,
   "id": "22106286-9c3f-40c1-b6cf-f8ae41733acd",
   "metadata": {},
   "outputs": [],
   "source": [
    "import time\n",
    "\n",
    "# Decorator function to calculate the execution time\n",
    "def calculate_execution_time(func):\n",
    "    def wrapper(*args, **kwargs):\n",
    "        start_time = time.time()\n",
    "        result = func(*args, **kwargs)\n",
    "        end_time = time.time()\n",
    "        execution_time = end_time - start_time\n",
    "        print(f\"Execution time of '{func.__name__}': {execution_time:.6f} seconds\")\n",
    "        return result\n",
    "    return wrapper\n",
    "\n",
    "# Apply the decorator to a function\n",
    "@calculate_execution_time\n",
    "def example_function(period):\n",
    "    # Simulate some time-consuming task\n",
    "    time.sleep(period)\n",
    "    print(\"Function execution complete\")\n"
   ]
  },
  {
   "cell_type": "code",
   "execution_count": 173,
   "id": "511da047-3a28-4567-b715-d5c672e0ad7c",
   "metadata": {},
   "outputs": [
    {
     "name": "stdout",
     "output_type": "stream",
     "text": [
      "Function execution complete\n",
      "Execution time of 'example_function': 2.000624 seconds\n"
     ]
    }
   ],
   "source": [
    "example_function(2)"
   ]
  },
  {
   "cell_type": "code",
   "execution_count": 174,
   "id": "d38a1fcc-1070-484f-a957-60d9efa0d717",
   "metadata": {},
   "outputs": [
    {
     "name": "stdout",
     "output_type": "stream",
     "text": [
      "Function execution complete\n",
      "Execution time of 'example_function': 3.000614 seconds\n"
     ]
    }
   ],
   "source": [
    "example_function(3)"
   ]
  },
  {
   "cell_type": "code",
   "execution_count": 175,
   "id": "787a8eff-e16c-4717-8c79-b18f347c7474",
   "metadata": {},
   "outputs": [
    {
     "name": "stdout",
     "output_type": "stream",
     "text": [
      "Function execution complete\n",
      "Execution time of 'example_function': 1.000336 seconds\n"
     ]
    }
   ],
   "source": [
    "example_function(1)"
   ]
  },
  {
   "cell_type": "markdown",
   "id": "475b54a3-3366-47d6-be2a-f421db1e7880",
   "metadata": {},
   "source": [
    "<div class=\"alert-info\">\n",
    "19) Write a Python program to find the sum of all even numbers in a list using lambda functions.\n",
    "</div>"
   ]
  },
  {
   "cell_type": "markdown",
   "id": "231d4ceb-529d-468b-8916-086e89ff69c5",
   "metadata": {},
   "source": [
    "+ Lambda functions are anonymous functions that can be used for simple operations without defining a named function."
   ]
  },
  {
   "cell_type": "code",
   "execution_count": 178,
   "id": "45edb188-4eda-4db0-a842-a5c6268378e7",
   "metadata": {},
   "outputs": [
    {
     "name": "stdout",
     "output_type": "stream",
     "text": [
      "List of even numbers: [2, 4, -4, 2, 0]\n",
      "Sum of all even numbers: 4\n"
     ]
    }
   ],
   "source": [
    "# Input list containing numbers\n",
    "numbers = [1, 2, 3, 4, 5, -5, -4, 3, 2, 1, 0, -1, 9]\n",
    "\n",
    "# Use a lambda function with filter to filter even numbers\n",
    "# list(filter()) function applies the lambda function to filter out the even numbers\n",
    "even_numbers = list(filter(lambda x: x % 2 == 0, numbers))\n",
    "\n",
    "# Calculate the sum of all even numbers in the list\n",
    "sum_of_even_numbers = sum(even_numbers)\n",
    "\n",
    "print(f\"List of even numbers: {even_numbers}\")\n",
    "print(f\"Sum of all even numbers: {sum_of_even_numbers}\")"
   ]
  },
  {
   "cell_type": "markdown",
   "id": "ba4dd4c2-4245-4290-9881-9a3ef143c73b",
   "metadata": {},
   "source": [
    "<div class=\"alert-info\">\n",
    "20) What is the purpose of the init() method in Python classes?\n",
    "</div>"
   ]
  },
  {
   "cell_type": "markdown",
   "id": "7621539b-598b-4294-9407-e4a8861be081",
   "metadata": {},
   "source": [
    "> In Python, \n",
    "+ The __init__() method is a special method (also known as a constructor) that is automatically called when a new instance of a class is created. \n",
    "+ The primary purpose of the __init__() method is to initialize the attributes of an object or perform any necessary setup when the object is instantiated.\n",
    "                \n",
    "> Key Features\n",
    "+ Initialization: The __init__() method is used to initialize the attributes (data members) of an object when it is created.\n",
    "+ Automatically Invoked: The __init__() method is automatically called when an instance of the class is created using the class name followed by parentheses (ClassName()) or by using object instantiation.\n",
    "+ Self Parameter: The self parameter is always the first parameter of the __init__() method, representing the instance of the class being initialized.\n",
    "+ Attribute Assignment: Inside the __init__() method, we can assign values to instance variables (attributes) of the class using self.attribute_name = initial_value.\n",
    "+ Custom Initialization Logic: We can also include custom initialization logic, perform validations, or set default attribute values inside the __init__() method."
   ]
  },
  {
   "cell_type": "code",
   "execution_count": 180,
   "id": "aa758d31-47c7-4f34-8b1b-981075a8421c",
   "metadata": {},
   "outputs": [],
   "source": [
    "class Person:\n",
    "    def __init__(self, name, age):\n",
    "        self.name = name\n",
    "        self.age = age\n",
    "\n",
    "    def display_info(self):\n",
    "        print(f\"Name: {self.name}, Age: {self.age}\")\n"
   ]
  },
  {
   "cell_type": "code",
   "execution_count": 183,
   "id": "571b8127-fc99-43b6-8eb2-fcf28c931758",
   "metadata": {},
   "outputs": [],
   "source": [
    "person1 = Person(\"Alice\", 30)\n",
    "person2 = Person(\"John\", 44)"
   ]
  },
  {
   "cell_type": "code",
   "execution_count": 184,
   "id": "535eeac8-5667-4db4-93e0-cb52418727da",
   "metadata": {},
   "outputs": [
    {
     "name": "stdout",
     "output_type": "stream",
     "text": [
      "Name: Alice, Age: 30\n",
      "Name: John, Age: 44\n"
     ]
    }
   ],
   "source": [
    "person1.display_info()\n",
    "person2.display_info()"
   ]
  },
  {
   "cell_type": "code",
   "execution_count": 185,
   "id": "e8ba1d2e-bbbf-4b24-aa24-36249f22781b",
   "metadata": {},
   "outputs": [],
   "source": [
    "person3 = Person(\"Wicky\", 42)"
   ]
  },
  {
   "cell_type": "code",
   "execution_count": 186,
   "id": "8a7825f3-85db-4dc3-9aaa-772adea742cd",
   "metadata": {},
   "outputs": [
    {
     "name": "stdout",
     "output_type": "stream",
     "text": [
      "Name: Wicky, Age: 42\n"
     ]
    }
   ],
   "source": [
    "person3.display_info()"
   ]
  },
  {
   "cell_type": "markdown",
   "id": "889a7d29-7698-4c02-b1fc-1918595af0b0",
   "metadata": {},
   "source": [
    "<div class=\"alert-info\">\n",
    "21) Explain the concepts of inheritance and polymorphism in Python with examples.\n",
    "</div>"
   ]
  },
  {
   "cell_type": "markdown",
   "id": "b25a87d0-f3fe-4951-a50a-70b8484ee972",
   "metadata": {},
   "source": [
    "> Inheritance is a fundamental concept in object-oriented programming that allows a class (child or subclass) to inherit attributes and methods from another class (parent or superclass).\n",
    "\n",
    "> In Python, a subclass can inherit properties and behaviors (methods) from a superclass, which promotes code reusability and supports the \"is-a\" (hierarchical relationship) relationship between classes.\n"
   ]
  },
  {
   "cell_type": "code",
   "execution_count": 187,
   "id": "0c2cee7c-b787-4f6a-a297-8ea7ba7b5328",
   "metadata": {},
   "outputs": [],
   "source": [
    "import math\n",
    "\n",
    "# Base class\n",
    "class Shape:\n",
    "    def __init__(self, color='black'):\n",
    "        self.color = color\n",
    "\n",
    "    def area(self):\n",
    "        raise NotImplementedError(\"Subclass must implement abstract method\")\n",
    "\n",
    "    def perimeter(self):\n",
    "        raise NotImplementedError(\"Subclass must implement abstract method\")\n",
    "\n",
    "# Derived class for Rectangle\n",
    "class Rectangle(Shape):\n",
    "    def __init__(self, width, height, color='black'):\n",
    "        super().__init__(color)\n",
    "        self.width = width\n",
    "        self.height = height\n",
    "\n",
    "    def area(self):\n",
    "        return self.width * self.height\n",
    "\n",
    "    def perimeter(self):\n",
    "        return 2 * (self.width + self.height)\n",
    "\n",
    "# Derived class for Circle\n",
    "class Circle(Shape):\n",
    "    def __init__(self, radius, color='black'):\n",
    "        super().__init__(color)\n",
    "        self.radius = radius\n",
    "\n",
    "    def area(self):\n",
    "        return math.pi * self.radius ** 2\n",
    "\n",
    "    def perimeter(self):\n",
    "        return 2 * math.pi * self.radius\n"
   ]
  },
  {
   "cell_type": "code",
   "execution_count": 188,
   "id": "d8b78f05-d204-444f-927e-f2958f9e8ac2",
   "metadata": {},
   "outputs": [
    {
     "name": "stdout",
     "output_type": "stream",
     "text": [
      "Rectangle: Color = blue, Area = 20, Perimeter = 18\n",
      "Circle: Color = red, Area = 28.274333882308138, Perimeter = 18.84955592153876\n"
     ]
    }
   ],
   "source": [
    "# Creating instances of Rectangle and Circle\n",
    "rectangle = Rectangle(4, 5, 'blue')\n",
    "circle = Circle(3, 'red')\n",
    "\n",
    "# Displaying area and perimeter\n",
    "print(f\"Rectangle: Color = {rectangle.color}, Area = {rectangle.area()}, Perimeter = {rectangle.perimeter()}\")\n",
    "print(f\"Circle: Color = {circle.color}, Area = {circle.area()}, Perimeter = {circle.perimeter()}\")\n"
   ]
  },
  {
   "cell_type": "code",
   "execution_count": 189,
   "id": "15a6f34b-00d0-4e02-a6d0-940f21f3cc2d",
   "metadata": {},
   "outputs": [
    {
     "name": "stdout",
     "output_type": "stream",
     "text": [
      "Rectangle: Color = brown, Area = 2, Perimeter = 6\n",
      "Circle: Color = black, Area = 78.53981633974483, Perimeter = 31.41592653589793\n"
     ]
    }
   ],
   "source": [
    "# Creating instances of Rectangle and Circle\n",
    "rectangle = Rectangle(2, 1, 'brown')\n",
    "circle = Circle(5, 'black')\n",
    "\n",
    "# Displaying area and perimeter\n",
    "print(f\"Rectangle: Color = {rectangle.color}, Area = {rectangle.area()}, Perimeter = {rectangle.perimeter()}\")\n",
    "print(f\"Circle: Color = {circle.color}, Area = {circle.area()}, Perimeter = {circle.perimeter()}\")\n"
   ]
  },
  {
   "cell_type": "markdown",
   "id": "4716a222-ff18-461a-91c2-f0712d8da2d6",
   "metadata": {},
   "source": [
    "<div class=\"alert-info\">\n",
    "22) Fill in the blanks to create a list of integers from 1 to 10: numbers = [__ for __ in range(____)]\n",
    "</div>"
   ]
  },
  {
   "cell_type": "raw",
   "id": "1985aa84-c80c-48a0-84e2-afc34018ae8a",
   "metadata": {},
   "source": [
    "Ans: 1.) num  2.) num  3.) 1, 11"
   ]
  },
  {
   "cell_type": "markdown",
   "id": "c00ff8a8-24b1-426d-8c07-252a533ea2ef",
   "metadata": {},
   "source": [
    "> Program: "
   ]
  },
  {
   "cell_type": "code",
   "execution_count": 191,
   "id": "bf196604-6611-4030-96a9-12c54f5cef20",
   "metadata": {},
   "outputs": [
    {
     "data": {
      "text/plain": [
       "[1, 2, 3, 4, 5, 6, 7, 8, 9, 10]"
      ]
     },
     "execution_count": 191,
     "metadata": {},
     "output_type": "execute_result"
    }
   ],
   "source": [
    "numbers = [num for num in range(1, 11)]\n",
    "numbers"
   ]
  },
  {
   "cell_type": "markdown",
   "id": "63701327-3c54-45f6-989f-c7bc03a8e126",
   "metadata": {},
   "source": [
    "<div class=\"alert-info\">\n",
    "    23) Fill in the blanks to create a dictionary with keys as numbers from 1 to 5 and values as their squares:\n",
    "</div>\n",
    "<div class=\"alert-info\">\n",
    "    squared_numbers = {__: __ ** 2 for __ in range(____)}\n",
    "</div>"
   ]
  },
  {
   "cell_type": "raw",
   "id": "c76a3723-cee7-4dc2-aef2-dfefbc35c92d",
   "metadata": {},
   "source": [
    "Ans: 1.) n   2.) n   3.) 1, 6"
   ]
  },
  {
   "cell_type": "markdown",
   "id": "48859cd4-2b4d-4b7b-bb5e-138dac46c61c",
   "metadata": {},
   "source": [
    "> Program: "
   ]
  },
  {
   "cell_type": "code",
   "execution_count": 196,
   "id": "6c86408a-4f55-4d81-8727-8c8f69e93c23",
   "metadata": {},
   "outputs": [
    {
     "data": {
      "text/plain": [
       "{1: 1, 2: 4, 3: 9, 4: 16, 5: 25}"
      ]
     },
     "execution_count": 196,
     "metadata": {},
     "output_type": "execute_result"
    }
   ],
   "source": [
    "squared_numbers = {n: n ** 2 for n in range(1, 6)}\n",
    "squared_numbers"
   ]
  },
  {
   "cell_type": "markdown",
   "id": "48677af0-df0e-4be1-b359-0ee2705e37bd",
   "metadata": {},
   "source": [
    "<div class=\"alert-info\">\n",
    "    24) Fill in the blanks to print the elements of a list using a for loop: \n",
    "</div>\n",
    "<div class=\"alert-info\">\n",
    "    fruits = [\"apple\", \"banana\", \"cherry\"] for __ in ____: print(__)\n",
    "</div>"
   ]
  },
  {
   "cell_type": "raw",
   "id": "932d786f-a00d-4e40-adaf-e10a20717a5c",
   "metadata": {},
   "source": [
    "Ans:  1.)  fruit   2.) fruits   3.) fruit"
   ]
  },
  {
   "cell_type": "markdown",
   "id": "33fce0d1-9dba-4470-bed8-f8ca2910a49d",
   "metadata": {},
   "source": [
    "> Program: "
   ]
  },
  {
   "cell_type": "code",
   "execution_count": 198,
   "id": "865c8c5d-579b-48a3-ba3b-28dc00feca1b",
   "metadata": {},
   "outputs": [
    {
     "name": "stdout",
     "output_type": "stream",
     "text": [
      "apple\n",
      "banana\n",
      "cherry\n"
     ]
    }
   ],
   "source": [
    "fruits = [\"apple\", \"banana\", \"cherry\"] \n",
    "for fruit in fruits: \n",
    "    print(fruit)"
   ]
  },
  {
   "cell_type": "markdown",
   "id": "ea90106c-4049-433f-8e94-e8924572ab42",
   "metadata": {},
   "source": [
    "<div class=\"alert-info\">\n",
    "    25) Fill in the blanks to define a function that takes two numbers and returns their sum:\n",
    "</div>\n",
    "<div class=\"alert-info\">\n",
    "    def add_numbers(a, b): ____\n",
    "</div>"
   ]
  },
  {
   "cell_type": "raw",
   "id": "c71f7a71-da7c-4f9c-a2a9-18ceeba7abbf",
   "metadata": {},
   "source": [
    "Ans: 1.) return a + b"
   ]
  },
  {
   "cell_type": "markdown",
   "id": "48ddb60a-33cb-4586-bbac-3c0349ea9e7a",
   "metadata": {},
   "source": [
    "> Program:"
   ]
  },
  {
   "cell_type": "code",
   "execution_count": 200,
   "id": "e06d04e5-c46a-45e5-b185-6c4afa727d3a",
   "metadata": {},
   "outputs": [],
   "source": [
    "def add_numbers(a, b):\n",
    "    return a + b"
   ]
  },
  {
   "cell_type": "code",
   "execution_count": 202,
   "id": "4c443743-6415-42f0-a71b-022f76b06cbd",
   "metadata": {},
   "outputs": [
    {
     "data": {
      "text/plain": [
       "11"
      ]
     },
     "execution_count": 202,
     "metadata": {},
     "output_type": "execute_result"
    }
   ],
   "source": [
    "add_numbers(5, 6)"
   ]
  },
  {
   "cell_type": "code",
   "execution_count": 203,
   "id": "4d47c644-e44d-45bd-905b-a1a864a1e328",
   "metadata": {},
   "outputs": [
    {
     "data": {
      "text/plain": [
       "-11"
      ]
     },
     "execution_count": 203,
     "metadata": {},
     "output_type": "execute_result"
    }
   ],
   "source": [
    "add_numbers(-5, -6)"
   ]
  },
  {
   "cell_type": "markdown",
   "id": "ac05b801-cbc6-4326-80de-ddd76eddc59d",
   "metadata": {},
   "source": [
    "<div class=\"alert-info\">\n",
    "    26) Fill in the blanks to create a lambda function that squares a number: \n",
    "</div>\n",
    "<div class=\"alert-info\">\n",
    "    square = lambda x: ____\n",
    "</div>"
   ]
  },
  {
   "cell_type": "raw",
   "id": "499f6ebb-c816-4ed3-9b36-404f0f2b2892",
   "metadata": {},
   "source": [
    "Ans: 1.) x**2"
   ]
  },
  {
   "cell_type": "markdown",
   "id": "9aeb2d47-d744-4502-92d0-fa85c4cd6a0e",
   "metadata": {},
   "source": [
    "> Program: I"
   ]
  },
  {
   "cell_type": "code",
   "execution_count": 205,
   "id": "8fff7bb4-1fe6-48c1-9c3a-05144f931135",
   "metadata": {},
   "outputs": [],
   "source": [
    "square = lambda x: x**2"
   ]
  },
  {
   "cell_type": "markdown",
   "id": "302da490-e15a-488d-86e9-cc9b516d32dc",
   "metadata": {},
   "source": [
    "+ Program Implementation: II"
   ]
  },
  {
   "cell_type": "code",
   "execution_count": 211,
   "id": "b444a57a-7734-496d-a0b9-5beb13b49b69",
   "metadata": {},
   "outputs": [
    {
     "name": "stdout",
     "output_type": "stream",
     "text": [
      "Original numbers: [2, 4, 6, 8, 10]\n",
      "Squared numbers: [4, 16, 36, 64, 100]\n"
     ]
    }
   ],
   "source": [
    "# List of numbers\n",
    "numbers = [2, 4, 6, 8, 10]\n",
    "\n",
    "# Lambda function to square a number\n",
    "square = lambda x: x**2\n",
    "\n",
    "# Applying the lambda function to square each number in the list\n",
    "squared_numbers = list(map(square, numbers))\n",
    "\n",
    "# Print the original numbers and their squares\n",
    "print(\"Original numbers:\", numbers)\n",
    "print(\"Squared numbers:\", squared_numbers)"
   ]
  },
  {
   "cell_type": "markdown",
   "id": "39ccf058-3680-43e2-974e-d7313a277e84",
   "metadata": {},
   "source": [
    "<div class=\"alert-info\">\n",
    "    27) Fill in the blanks to use a conditional statement to check if a number is positive, negative, or zero: \n",
    "</div>\n",
    "<div class=\"alert-info\">\n",
    "    number = -5 \n",
    "     if ____: \n",
    "     print(\"Positive\") \n",
    "     ____ number < 0:\n",
    "     print(\"Negative\") \n",
    "     ____: \n",
    "     print(\"Zero\")\n",
    "</div>"
   ]
  },
  {
   "cell_type": "raw",
   "id": "72e80955-4b67-4e35-8512-35bfa8fd2f77",
   "metadata": {},
   "source": [
    "Ans: 1.) number > 0   2.) elif   3.) else"
   ]
  },
  {
   "cell_type": "markdown",
   "id": "22b24aec-1661-462d-9579-047cff6ee4a8",
   "metadata": {},
   "source": [
    "> Program: "
   ]
  },
  {
   "cell_type": "code",
   "execution_count": 212,
   "id": "89e9c60c-d1a5-4366-ab87-acdabe654015",
   "metadata": {},
   "outputs": [
    {
     "name": "stdout",
     "output_type": "stream",
     "text": [
      "Negative\n"
     ]
    }
   ],
   "source": [
    "number = -5\n",
    "if number > 0:\n",
    "    print(\"Positive\")\n",
    "elif number < 0:\n",
    "    print(\"Negative\")\n",
    "else:\n",
    "    print(\"Zero\""
   ]
  },
  {
   "cell_type": "markdown",
   "id": "eef87c23-c1f4-4188-b417-ab0508181759",
   "metadata": {},
   "source": [
    "<div class=\"alert-info\">\n",
    "    28) Fill in the blanks to create a string from a list of characters:\n",
    "</div>\n",
    "<div class=\"alert-info\">\n",
    "    characters = ['P', 'y', 't', 'h', 'o', 'n'] word = .join()\n",
    "</div>"
   ]
  },
  {
   "cell_type": "raw",
   "id": "23afa238-25ff-4d94-9bfb-2427c132dae0",
   "metadata": {},
   "source": [
    "Ans:  1.)  ''.join(characters)"
   ]
  },
  {
   "cell_type": "markdown",
   "id": "01102b1c-4d02-4fd1-a12a-4a38a590c805",
   "metadata": {},
   "source": [
    "> Program: "
   ]
  },
  {
   "cell_type": "code",
   "execution_count": 216,
   "id": "bba3534b-315e-49d4-84a1-c9b1b2df200e",
   "metadata": {},
   "outputs": [
    {
     "data": {
      "text/plain": [
       "'Python'"
      ]
     },
     "execution_count": 216,
     "metadata": {},
     "output_type": "execute_result"
    }
   ],
   "source": [
    "characters = ['P', 'y', 't', 'h', 'o', 'n'] \n",
    "word = ''.join(characters)\n",
    "word"
   ]
  },
  {
   "cell_type": "markdown",
   "id": "1e41a3c4-4360-455c-a1c4-a02c0bb92cff",
   "metadata": {},
   "source": [
    "<div class=\"alert-info\">\n",
    "    29) Fill in the blanks to use string slicing to reverse a string:\n",
    "</div>\n",
    "<div class=\"alert-info\">\n",
    "    text = \"Hello, World!\" reversed_text = ____\n",
    "</div>"
   ]
  },
  {
   "cell_type": "code",
   "execution_count": null,
   "id": "6311e69c-ee8a-459d-8656-c53792c33b08",
   "metadata": {},
   "outputs": [],
   "source": [
    "Ans:  1.) text[::-1]"
   ]
  },
  {
   "cell_type": "markdown",
   "id": "9742d876-3b88-4aa7-a8e1-8e9a9670a4bc",
   "metadata": {},
   "source": [
    "> Program:"
   ]
  },
  {
   "cell_type": "code",
   "execution_count": 217,
   "id": "a45fd927-1e07-4911-a693-af5402ceaaaa",
   "metadata": {},
   "outputs": [
    {
     "data": {
      "text/plain": [
       "'!dlroW ,olleH'"
      ]
     },
     "execution_count": 217,
     "metadata": {},
     "output_type": "execute_result"
    }
   ],
   "source": [
    "text = \"Hello, World!\" \n",
    "reversed_text = text[::-1]\n",
    "reversed_text"
   ]
  },
  {
   "cell_type": "markdown",
   "id": "21d7344d-face-4dcf-ad81-5eebb7597bfa",
   "metadata": {},
   "source": [
    "<div class=\"alert-info\">\n",
    "    30) Write a Python function to calculate the factorial of a number using recursion.\n",
    "</div>"
   ]
  },
  {
   "cell_type": "markdown",
   "id": "ba4047e3-8c94-4da4-9e7e-7a34ecacbc7a",
   "metadata": {},
   "source": [
    ">  Program: "
   ]
  },
  {
   "cell_type": "code",
   "execution_count": 219,
   "id": "b21f8ec4-c6d6-4f33-837d-dba035cd5960",
   "metadata": {},
   "outputs": [],
   "source": [
    "def factorial(n):\n",
    "    if n == 0:\n",
    "        return 1\n",
    "    else:\n",
    "        return n * factorial(n - 1)\n",
    "\n",
    "def call_factorial():\n",
    "    number = int(input(\"Enter a number: \"))\n",
    "    result = factorial(number)\n",
    "    print(f\"The factorial of {number} is {result}\")"
   ]
  },
  {
   "cell_type": "code",
   "execution_count": 220,
   "id": "e51a5401-94a4-45eb-8d65-504a632a0d9f",
   "metadata": {},
   "outputs": [
    {
     "name": "stdin",
     "output_type": "stream",
     "text": [
      "Enter a number:  3\n"
     ]
    },
    {
     "name": "stdout",
     "output_type": "stream",
     "text": [
      "The factorial of 3 is 6\n"
     ]
    }
   ],
   "source": [
    "call_factorial()"
   ]
  },
  {
   "cell_type": "code",
   "execution_count": 221,
   "id": "904e345c-71e6-4921-bd93-fdbd792c4dd7",
   "metadata": {},
   "outputs": [
    {
     "name": "stdin",
     "output_type": "stream",
     "text": [
      "Enter a number:  5\n"
     ]
    },
    {
     "name": "stdout",
     "output_type": "stream",
     "text": [
      "The factorial of 5 is 120\n"
     ]
    }
   ],
   "source": [
    "call_factorial()"
   ]
  },
  {
   "cell_type": "markdown",
   "id": "f406c266-0c98-48cd-8caf-17a2a3308f23",
   "metadata": {},
   "source": [
    "<div class=\"alert-success\">\n",
    "    <a href=\"https://github.com/manishpsdInd\">Manish Prasad</a> [M.Tech. | Applied AI | VNIT Nagpur | 23-24/S24 ] Assignment Over\n",
    "</div>"
   ]
  }
 ],
 "metadata": {
  "kernelspec": {
   "display_name": "Python 3 (ipykernel)",
   "language": "python",
   "name": "python3"
  },
  "language_info": {
   "codemirror_mode": {
    "name": "ipython",
    "version": 3
   },
   "file_extension": ".py",
   "mimetype": "text/x-python",
   "name": "python",
   "nbconvert_exporter": "python",
   "pygments_lexer": "ipython3",
   "version": "3.11.7"
  }
 },
 "nbformat": 4,
 "nbformat_minor": 5
}
